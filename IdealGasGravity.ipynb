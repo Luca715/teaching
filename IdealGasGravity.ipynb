{
 "cells": [
  {
   "cell_type": "markdown",
   "metadata": {},
   "source": [
    "# The ideal classical gas subject to gravity\n",
    "### Author: Luke Davis\n",
    "\n",
    "### Running instructions\n",
    "\n",
    "The notebook runs from top to bottom and you should ``Run`` each input cell one after the other. "
   ]
  },
  {
   "cell_type": "markdown",
   "metadata": {},
   "source": [
    "## Introduction:\n",
    "\n",
    "Let us consider the ideal classical gas consisting of $N$ particles of mass $m$ at a temperature $T$. Additonally, imagine such a gas at the surface of the earth where the gravitational field strength $g$ is $\\approx 9.81$ m/s$^2$, and the particles are located at certain heights $h$.\n",
    "\n",
    "The energy of one particle, say $i$, of this gas is given as\n",
    "\n",
    "$$E_i(h) = \\frac{3}{2} k_B T + mgh, $$\n",
    "\n",
    "where $k_B$ is Boltzmann's constant. Dividing this expression by $k_B T$ (making it dimensionless) leads to\n",
    "\n",
    "$$\\frac{E_i(h)}{k_B T} = \\frac{3}{2} + \\frac{mg}{k_B T} h, $$\n",
    "\n",
    "in which the behaviour of the particle is dictated by the ratio of its weight $mg$ to the thermal background $k_B T$. The $N$ particles are distributed above the surface according to\n",
    "\n",
    "$$ n_v (h) = n_0 \\exp \\left( - \\frac{mg}{k_B T} h \\right), $$\n",
    "\n",
    "where $n_v$ and $n_0$ are, respectively, the number of particles at a height $h$ and the number of particles coincident with the earth's surface."
   ]
  },
  {
   "cell_type": "markdown",
   "metadata": {},
   "source": [
    "## Pre-amble"
   ]
  },
  {
   "cell_type": "code",
   "execution_count": 1,
   "metadata": {},
   "outputs": [],
   "source": [
    "%%capture\n",
    "!conda install -y -q ffmpeg\n",
    "import sys\n",
    "import numpy as np\n",
    "import math\n",
    "import matplotlib as mpl\n",
    "import matplotlib.pyplot as plt\n",
    "from mpl_toolkits.mplot3d import Axes3D # 3D plots\n",
    "import matplotlib.animation as animation # animation (video)\n",
    "import matplotlib.gridspec as gridspec # fancy subplots\n",
    "from IPython.display import HTML # shows animation in jupyter\n",
    "from ipywidgets import interact, interactive, fixed, interact_manual\n",
    "import ipywidgets as widgets"
   ]
  },
  {
   "cell_type": "code",
   "execution_count": 2,
   "metadata": {},
   "outputs": [],
   "source": [
    "matplotlib inline"
   ]
  },
  {
   "cell_type": "code",
   "execution_count": 3,
   "metadata": {},
   "outputs": [],
   "source": [
    "plt.rcParams['figure.figsize'] = (6,4)\n",
    "plt.rcParams['figure.dpi'] = 150"
   ]
  },
  {
   "cell_type": "markdown",
   "metadata": {},
   "source": [
    "## Code"
   ]
  },
  {
   "cell_type": "code",
   "execution_count": 23,
   "metadata": {},
   "outputs": [],
   "source": [
    "H=300.0 #Maximum height limit "
   ]
  },
  {
   "cell_type": "code",
   "execution_count": 5,
   "metadata": {},
   "outputs": [],
   "source": [
    "def nv(x,n0,mgkT): # number density. \n",
    "    # x= distance perpendicular to ground, n0= number particles coincident with ground, mgkT = mg/kT\n",
    "    return (n0*np.exp(-(mgkT*x))) # number density equation"
   ]
  },
  {
   "cell_type": "code",
   "execution_count": 16,
   "metadata": {},
   "outputs": [],
   "source": [
    "def particles(x,n0,mgkT): # function to generate particles\n",
    "    points = []\n",
    "    xcnt = 0\n",
    "    for i in nv(x,n0,mgkT):\n",
    "        for n in range(1,math.floor(i)):\n",
    "            points.append(x[xcnt])\n",
    "        xcnt += 1\n",
    "    return points\n",
    "\n",
    "def histogram(bins,data): # function to histogram generated heights\n",
    "    histo = []\n",
    "    for x in bins:\n",
    "        cnt = 0\n",
    "        for height in data:\n",
    "            if height == x:\n",
    "                cnt += 1\n",
    "        histo.append(cnt)\n",
    "    return histo\n",
    "                \n",
    "        "
   ]
  },
  {
   "cell_type": "code",
   "execution_count": 25,
   "metadata": {},
   "outputs": [
    {
     "data": {
      "application/vnd.jupyter.widget-view+json": {
       "model_id": "287231b67667475b968b17f73762f42b",
       "version_major": 2,
       "version_minor": 0
      },
      "text/plain": [
       "interactive(children=(IntSlider(value=50, description='n0', step=2), FloatSlider(value=0.04991, description='m…"
      ]
     },
     "metadata": {},
     "output_type": "display_data"
    }
   ],
   "source": [
    "@interact(n0=(0,100,2),mgkT=(0.00001,0.1,0.0001)) # variables to change\n",
    "def IdealGasGravity(n0,mgkT):\n",
    "    fig, axs = plt.subplots(1,2)\n",
    "    axs[1].set(xlabel='Height',ylabel='Particle count')\n",
    "    axs[1].set_xlim(0.0,300)\n",
    "    axs[1].plot(np.arange(0,H,2),nv(np.arange(0,H,2),n0,mgkT),color='black',label=\"Theory\")\n",
    "   \n",
    "    \n",
    "    particleHeights=particles(np.arange(0,H,1),n0,mgkT) # generate particle heights\n",
    "    \n",
    "    bins = np.arange(0,H,1)\n",
    "    #print(histogram(bins,particleHeights))\n",
    "    axs[1].plot(bins,histogram(bins,particleHeights),label='Observed')\n",
    "    axs[1].legend(loc='best') #plot legend\n",
    "    \n",
    "    axs[0].set(xlabel='Horizontal distance',ylabel='Height')\n",
    "    axs[0].set_ylim(0.0,300)\n",
    "    axs[0].scatter(np.random.uniform(low=0.0,high=10.0,size=len(particleHeights)),particleHeights,alpha=0.3)\n",
    "    \n",
    "    fig.tight_layout(pad=1.0)"
   ]
  },
  {
   "cell_type": "code",
   "execution_count": null,
   "metadata": {},
   "outputs": [],
   "source": []
  }
 ],
 "metadata": {
  "kernelspec": {
   "display_name": "Python 3",
   "language": "python",
   "name": "python3"
  },
  "language_info": {
   "codemirror_mode": {
    "name": "ipython",
    "version": 3
   },
   "file_extension": ".py",
   "mimetype": "text/x-python",
   "name": "python",
   "nbconvert_exporter": "python",
   "pygments_lexer": "ipython3",
   "version": "3.5.2"
  }
 },
 "nbformat": 4,
 "nbformat_minor": 2
}
