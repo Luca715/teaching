{
 "cells": [
  {
   "cell_type": "code",
   "execution_count": 2,
   "metadata": {},
   "outputs": [],
   "source": [
    "# Author: Luke Davis (2020)\n",
    "\n",
    "import sys\n",
    "import numpy as np\n",
    "import math\n",
    "import matplotlib as mpl\n",
    "import matplotlib.pyplot as plt\n",
    "from ipywidgets import interact, interactive, fixed, interact_manual\n",
    "import ipywidgets as widgets"
   ]
  },
  {
   "cell_type": "code",
   "execution_count": 3,
   "metadata": {},
   "outputs": [],
   "source": [
    "matplotlib inline"
   ]
  },
  {
   "cell_type": "code",
   "execution_count": 4,
   "metadata": {},
   "outputs": [],
   "source": [
    "plt.rcParams['figure.figsize'] = (6,4)\n",
    "plt.rcParams['figure.dpi'] = 150"
   ]
  },
  {
   "cell_type": "markdown",
   "metadata": {},
   "source": [
    "Ideal classical gas subject to gravity. Note in this example mgkT is a variable denoting the ratio mg/kT."
   ]
  },
  {
   "cell_type": "code",
   "execution_count": 5,
   "metadata": {},
   "outputs": [],
   "source": [
    "H=1000.0 #Maximum height limit "
   ]
  },
  {
   "cell_type": "code",
   "execution_count": 6,
   "metadata": {},
   "outputs": [],
   "source": [
    "def nv(x,n0,mgkT): # number density. \n",
    "    # x= distance perpendicular to ground, n0= number particles coincident with ground\n",
    "    return (n0*np.exp(-(mgkT*x))) # number density equation"
   ]
  },
  {
   "cell_type": "code",
   "execution_count": 7,
   "metadata": {},
   "outputs": [],
   "source": [
    "def particles(x,n0,mgkT): # function to generate particles\n",
    "    points = []\n",
    "    xcnt = 0\n",
    "    for i in nv(x,n0,mgkT):\n",
    "        for n in range(1,math.floor(i)):\n",
    "            points.append(x[xcnt])\n",
    "        xcnt += 1\n",
    "    return points\n",
    "        "
   ]
  },
  {
   "cell_type": "code",
   "execution_count": 8,
   "metadata": {},
   "outputs": [
    {
     "data": {
      "application/vnd.jupyter.widget-view+json": {
       "model_id": "159f2c1e67ef4aa580035995af55cd90",
       "version_major": 2,
       "version_minor": 0
      },
      "text/plain": [
       "interactive(children=(IntSlider(value=50, description='n0', step=10), FloatSlider(value=0.04991, description='…"
      ]
     },
     "metadata": {},
     "output_type": "display_data"
    }
   ],
   "source": [
    "@interact(n0=(0,100,10),mgkT=(0.00001,0.1,0.0001))\n",
    "def IdealGasGravity(n0,mgkT):\n",
    "    fig, axs = plt.subplots(1,2)\n",
    "    axs[1].set(xlabel='Height',ylabel='Particle count')\n",
    "    axs[1].set_xlim(0.0,300)\n",
    "    axs[1].plot(np.arange(0,H,50),nv(np.arange(0,H,50),n0,mgkT))\n",
    "    \n",
    "    \n",
    "    particleHeights=particles(np.arange(0,H,1),n0,mgkT)\n",
    "    \n",
    "    axs[0].set(xlabel='Horizontal distance',ylabel='Height')\n",
    "    axs[0].set_ylim(0.0,300)\n",
    "    axs[0].scatter(np.random.uniform(low=0.0,high=10.0,size=len(particleHeights)),particleHeights,alpha=0.3)\n",
    "    fig.tight_layout(pad=1.0)"
   ]
  },
  {
   "cell_type": "code",
   "execution_count": null,
   "metadata": {},
   "outputs": [],
   "source": []
  }
 ],
 "metadata": {
  "kernelspec": {
   "display_name": "Python 3",
   "language": "python",
   "name": "python3"
  },
  "language_info": {
   "codemirror_mode": {
    "name": "ipython",
    "version": 3
   },
   "file_extension": ".py",
   "mimetype": "text/x-python",
   "name": "python",
   "nbconvert_exporter": "python",
   "pygments_lexer": "ipython3",
   "version": "3.5.2"
  }
 },
 "nbformat": 4,
 "nbformat_minor": 2
}
