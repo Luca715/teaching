{
 "cells": [
  {
   "cell_type": "markdown",
   "metadata": {},
   "source": [
    "# The ideal classical gas subject to gravity\n",
    "\n",
    "### Authors: Luke Davis and Bart Hoogenboom, University College London\n",
    "\n",
    "### Running instructions\n",
    "\n",
    "The notebook runs from top to bottom and you should ``Run`` each input cell one after the other. To run the interactive plot please press the ``Run Interact`` button after executing the code cell containing ``@interact_manual``."
   ]
  },
  {
   "cell_type": "markdown",
   "metadata": {},
   "source": [
    "## Introduction:\n",
    "\n",
    "Consider an ideal classical gas consisting of $N$ point-like particles of mass $m$ at a temperature $T$. Imagine such a gas at the surface of the earth where the gravitational field strength $g$ is $\\approx 9.81$ m/s$^2$, and the particles are located at certain heights $h \\geq 0$.\n",
    "\n",
    "The energy of one particle, say $i$, of this gas is given as\n",
    "\n",
    "$$E_i(h) = \\frac{3}{2} k_B T + mgh, $$\n",
    "\n",
    "where $k_B$ is Boltzmann's constant. The first term in the energy is the thermal energy and the second term is the gravitational potential energy. Dividing this expression by $k_B T$ (making it dimensionless) leads to\n",
    "\n",
    "$$\\frac{E_i(h)}{k_B T} = \\frac{3}{2} + \\frac{mgh}{k_B T}, $$\n",
    "\n",
    "in which the behaviour of the particle, at a given height $h$, is dictated by the ratio of its weight $mg$ to the thermal background $k_B T$. The $N$ particles are distributed above the surface according to\n",
    "\n",
    "$$ n_v (h) = n_0 \\exp \\left( - \\frac{mg}{k_B T} h \\right), $$\n",
    "\n",
    "where $n_v$ and $n_0$ are, respectively, the density of particles at a height $h$ and the number of particles coincident with the earth's surface.\n",
    "\n",
    "If we restrict our considerations to a system with maximum height $H$, $n_v$ is related to the total number of particles $N$ by\n",
    "\n",
    "$$ N = \\int_0^H n_v(h) dh = n_0 \\int_0^H \\exp \\left( - \\frac{mgh}{k_B T} \\right) dh. $$\n",
    "\n",
    "In the code below you will vary two quantities (1) the overall number of gas particles $N$ and (2) the gravitational potential energy ($mgH$) at the maximum height $H$ in units of $k_B T$. You will investigate how the overall number of gas particles affects the appearance of layering in the system."
   ]
  },
  {
   "cell_type": "markdown",
   "metadata": {},
   "source": [
    "## Pre-amble code"
   ]
  },
  {
   "cell_type": "code",
   "execution_count": 1,
   "metadata": {},
   "outputs": [],
   "source": [
    "%%capture\n",
    "#!conda install -y -q ffmpeg\n",
    "import sys # python system library\n",
    "import numpy as np # numerical python library\n",
    "import math # python math library\n",
    "import matplotlib as mpl # matplotlib shorthand\n",
    "import matplotlib.pyplot as plt # matplotlib shorthand\n",
    "from mpl_toolkits.mplot3d import Axes3D # 3D plots\n",
    "import matplotlib.animation as animation # animation (video)\n",
    "import matplotlib.gridspec as gridspec # fancy subplots\n",
    "from IPython.display import HTML # shows animation in jupyter\n",
    "from ipywidgets import interact, interactive, fixed, interact_manual\n",
    "import ipywidgets as widgets"
   ]
  },
  {
   "cell_type": "code",
   "execution_count": 2,
   "metadata": {},
   "outputs": [],
   "source": [
    "matplotlib inline"
   ]
  },
  {
   "cell_type": "code",
   "execution_count": 3,
   "metadata": {},
   "outputs": [],
   "source": [
    "# Plot parameters\n",
    "plt.rcParams['figure.figsize'] = (7,4)\n",
    "plt.rcParams['figure.dpi'] = 150\n",
    "plt.rcParams[\"font.family\"] = \"Serif\"\n",
    "params = {'mathtext.default': 'regular' }  "
   ]
  },
  {
   "cell_type": "markdown",
   "metadata": {},
   "source": [
    "## Code"
   ]
  },
  {
   "cell_type": "code",
   "execution_count": 4,
   "metadata": {},
   "outputs": [],
   "source": [
    "H=100.0 # Maximum height limit \n",
    "dh=2  # Height bin width for the particle plot"
   ]
  },
  {
   "cell_type": "code",
   "execution_count": 5,
   "metadata": {},
   "outputs": [],
   "source": [
    "def nv(x,n0,mgkT): # number density function as defined in the introduction \n",
    "    # x is an array of distances perpendicular to ground\n",
    "    # n0 = number particles coincident with ground\n",
    "    # mgkT = mg/kT\n",
    "    return (n0*np.exp(-(mgkT*x))) # return an array of the outputs from the number density equation"
   ]
  },
  {
   "cell_type": "code",
   "execution_count": 6,
   "metadata": {},
   "outputs": [],
   "source": [
    "def particles(x,n0,mgkT): # function to generate gas particles\n",
    "    points = []\n",
    "    xcnt = 0\n",
    "    nums = nv(x,n0,mgkT) # outputs from the number density equation\n",
    "    \n",
    "    for i in nums: # loop over the number of particles at a particular height\n",
    "        for n in range(0,math.ceil(i-np.random.rand())): # this loop collects the heights of the particles\n",
    "            points.append(x[xcnt])\n",
    "        xcnt += 1\n",
    "    return points # return the heights of the points\n",
    "\n",
    "def histogram(bins,data): # function to histogram generated heights of the points\n",
    "    histo = []\n",
    "    for i in range(len(bins)):\n",
    "        cnt = 0\n",
    "        if i<=0:\n",
    "            diffmin=bins[i+1]-bins[i]\n",
    "        else: diffmin=bins[i]-bins[i-1]\n",
    "        if i>=len(bins)-1:\n",
    "            diffmax=bins[i]-bins[i-1]\n",
    "        else: diffmax=bins[i+1]-bins[i]\n",
    "        for height in data:\n",
    "            if height >= (bins[i]-diffmin/2) and height < (bins[i]+diffmax/2):\n",
    "                cnt += 1 # add to histogram\n",
    "        histo.append(cnt)\n",
    "    return histo # return array of the counts"
   ]
  },
  {
   "cell_type": "code",
   "execution_count": 7,
   "metadata": {},
   "outputs": [
    {
     "data": {
      "application/vnd.jupyter.widget-view+json": {
       "model_id": "303d8331ae4b40b3b76aaeb1a8fa66ca",
       "version_major": 2,
       "version_minor": 0
      },
      "text/plain": [
       "interactive(children=(IntSlider(value=100, description='N', max=200, min=20, step=20), FloatSlider(value=5.0, …"
      ]
     },
     "metadata": {},
     "output_type": "display_data"
    }
   ],
   "source": [
    "@interact_manual(N=widgets.IntSlider(value=100,min=20,max=200,step=20),\n",
    "                 mgH=widgets.FloatSlider(value=5,min=0,max=40,step=1)) # variables to change\n",
    "def IdealGasGravity(N,mgH): # main function for the interactive plot\n",
    "    bins = np.arange(0,H,dh)+dh/2 # the discrete heights\n",
    "\n",
    "    mgkT = mgH/H # the mg/kT quantity\n",
    "\n",
    "    n0 = (int(N)/(np.sum(np.exp(-(mgkT*bins))))) # finding n0 from the specified n\n",
    "\n",
    "    fig, axs = plt.subplots(1,2)\n",
    "    \n",
    "    particleHeights=particles(bins,n0,mgkT) # generate particle heights\n",
    "    \n",
    "    nparticles = len(particleHeights) # actual number of collect points\n",
    "    \n",
    "    ### Plotting ###\n",
    "    \n",
    "    axs[0].set(xlabel='Horizontal distance',ylabel='Height',title='Ideal gas subject to gravity')\n",
    "    axs[0].set_ylim(0.0,H)\n",
    "    axs[0].set_xlim(0.0,10)\n",
    "    axs[0].tick_params(which='both',direction='out',right=True,top=False)\n",
    "    axs[0].set_xticklabels('')\n",
    "    axs[0].set_yticklabels(['0','','','','','Max'])\n",
    "    axs[0].scatter(np.random.uniform(low=0.0,high=10.0,size=len(particleHeights)),particleHeights,color='orange'\n",
    "                   ,edgecolor='black',alpha=0.7,label='$\\it{n}_{points}=$'+str(nparticles))\n",
    "    axs[0].set_facecolor('xkcd:sky blue')\n",
    "#    axs[0].legend(loc='best') #plot legend\n",
    "    \n",
    "    dhbins = H/10 # bin width for histogram\n",
    "    histbins = np.arange(0,H,dhbins)+dhbins/2\n",
    "    \n",
    "    axs[1].bar(histbins,histogram(histbins,particleHeights),\n",
    "               edgecolor='black',width=dhbins,color='orange',alpha=0.7,label='Observed (discrete)')\n",
    "    \n",
    "    axs[1].set(xlabel='Height',ylabel='Particle count',title='')\n",
    "    axs[1].set_xlim(0.0,H)\n",
    "    axs[1].set_xticklabels(['0','','','','','Max'])\n",
    "    axs[1].plot(bins,nv(bins,n0,mgkT)*dhbins/dh,color='black',label=\"Theory (continuous)\")\n",
    "    axs[1].legend(loc='best') #plot legend\n",
    "    \n",
    "   \n",
    "    \n",
    "    fig.tight_layout(pad=1.0)"
   ]
  },
  {
   "cell_type": "markdown",
   "metadata": {},
   "source": [
    "(Due to the way the code converts the continuous distribution $n_v$ to individual points (left figure), the total number of points can slightly deviate from $N$.)"
   ]
  }
 ],
 "metadata": {
  "kernelspec": {
   "display_name": "Python 3",
   "language": "python",
   "name": "python3"
  },
  "language_info": {
   "codemirror_mode": {
    "name": "ipython",
    "version": 3
   },
   "file_extension": ".py",
   "mimetype": "text/x-python",
   "name": "python",
   "nbconvert_exporter": "python",
   "pygments_lexer": "ipython3",
   "version": "3.7.6"
  }
 },
 "nbformat": 4,
 "nbformat_minor": 2
}
