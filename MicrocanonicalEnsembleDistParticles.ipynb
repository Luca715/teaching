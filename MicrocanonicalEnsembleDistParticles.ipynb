{
 "cells": [
  {
   "cell_type": "markdown",
   "metadata": {},
   "source": [
    "# Microcanonical ensemble - distinguishable particles\n",
    "Authors: Livia Maskos, Professor Bart Hoogenboom"
   ]
  },
  {
   "cell_type": "markdown",
   "metadata": {},
   "source": [
    "Outline:\n",
    "\n",
    "- generate an animation with all possible configurations of a microcanonical ensemble for distinguisable particles (variables: lattice sites, particles)\n",
    "- for a given 2D lattice: create plot (number of configurations against number of particles)\n",
    "!!! next steps: animation coming + need to find a way of changing the for huge 'for' loop containing all the 'if', with the ability of changing the particles' color + create a box to ask for number of particles and lattice sites. Code becomes very long for 3+ particles considered."
   ]
  },
  {
   "cell_type": "markdown",
   "metadata": {},
   "source": [
    "Imports"
   ]
  },
  {
   "cell_type": "code",
   "execution_count": 1,
   "metadata": {},
   "outputs": [
    {
     "name": "stdout",
     "output_type": "stream",
     "text": [
      "Collecting package metadata (current_repodata.json): ...working... done\n",
      "Solving environment: ...working... done\n",
      "\n",
      "# All requested packages already installed.\n",
      "\n"
     ]
    }
   ],
   "source": [
    "!conda install -y -q ffmpeg"
   ]
  },
  {
   "cell_type": "code",
   "execution_count": 2,
   "metadata": {},
   "outputs": [],
   "source": [
    "import matplotlib.pyplot as plt\n",
    "import numpy as np\n",
    "import random\n",
    "import math\n",
    "import itertools\n",
    "import matplotlib.animation as animation\n",
    "from IPython.core.display import HTML\n",
    "from ipywidgets import widgets\n",
    "from ipywidgets import interact, interactive, fixed, interact_manual"
   ]
  },
  {
   "cell_type": "markdown",
   "metadata": {},
   "source": [
    "Set up"
   ]
  },
  {
   "cell_type": "code",
   "execution_count": 3,
   "metadata": {},
   "outputs": [],
   "source": [
    "from IPython.display import display\n",
    "def f(latticeside):\n",
    "    display(latticeside)\n",
    "    return latticeside"
   ]
  },
  {
   "cell_type": "code",
   "execution_count": 4,
   "metadata": {},
   "outputs": [
    {
     "data": {
      "text/plain": [
       "ipywidgets.widgets.interaction.interactive"
      ]
     },
     "execution_count": 4,
     "metadata": {},
     "output_type": "execute_result"
    }
   ],
   "source": [
    "w = interactive(f, latticeside=widgets.IntSlider(min=2, max=6))\n",
    "type(w)"
   ]
  },
  {
   "cell_type": "code",
   "execution_count": 27,
   "metadata": {},
   "outputs": [
    {
     "data": {
      "application/vnd.jupyter.widget-view+json": {
       "model_id": "0a7e98a6886f4d63a03a57bb54e1de80",
       "version_major": 2,
       "version_minor": 0
      },
      "text/plain": [
       "interactive(children=(IntSlider(value=3, description='latticeside', max=6, min=2), Output(outputs=({'output_ty…"
      ]
     },
     "metadata": {},
     "output_type": "display_data"
    }
   ],
   "source": [
    "w.children\n",
    "display(w)\n",
    "\n",
    "w.kwargs\n",
    "lat = w.result"
   ]
  },
  {
   "cell_type": "code",
   "execution_count": 28,
   "metadata": {},
   "outputs": [
    {
     "name": "stdout",
     "output_type": "stream",
     "text": [
      "Number of lattice sites is 9\n"
     ]
    }
   ],
   "source": [
    "M1 = lat - 1 # considering the 0 point\n",
    "M = lat**2 # number of lattice sites\n",
    "print('Number of lattice sites is',M)"
   ]
  },
  {
   "cell_type": "markdown",
   "metadata": {},
   "source": [
    "Number of particles to choose"
   ]
  },
  {
   "cell_type": "code",
   "execution_count": 35,
   "metadata": {},
   "outputs": [
    {
     "data": {
      "application/vnd.jupyter.widget-view+json": {
       "model_id": "0b420c76da4f4eec84fcc89bb5e75605",
       "version_major": 2,
       "version_minor": 0
      },
      "text/plain": [
       "interactive(children=(IntSlider(value=1, description='Num_part', max=4, min=1), Output()), _dom_classes=('widg…"
      ]
     },
     "metadata": {},
     "output_type": "display_data"
    }
   ],
   "source": [
    "def part(Num_part):\n",
    "    display(Num_part)\n",
    "    return Num_part\n",
    "\n",
    "z = interactive(part, Num_part=widgets.IntSlider(min=1, max=4))\n",
    "type(z)\n",
    "\n",
    "z.children\n",
    "display(z)"
   ]
  },
  {
   "cell_type": "code",
   "execution_count": 37,
   "metadata": {},
   "outputs": [
    {
     "name": "stdout",
     "output_type": "stream",
     "text": [
      "We consider 2 particles\n"
     ]
    }
   ],
   "source": [
    "z.kwargs\n",
    "N = z.result\n",
    "\n",
    "print('We consider %d'% N, 'particles')"
   ]
  },
  {
   "cell_type": "markdown",
   "metadata": {},
   "source": [
    "### Generating the points coordinates on a 2D lattice (x and y)"
   ]
  },
  {
   "cell_type": "code",
   "execution_count": 38,
   "metadata": {},
   "outputs": [],
   "source": [
    "xi = [*range(0,M1+1)] #possible x coordinates\n",
    "yi = [*range(0,M1+1)] #possible y coordinates\n",
    "points = [*itertools.product(xi,yi)] #possible point coordinates"
   ]
  },
  {
   "cell_type": "code",
   "execution_count": 39,
   "metadata": {},
   "outputs": [],
   "source": [
    "#particles considered and their coordinates \n",
    "particles = [*range(0, N, 1)]\n",
    "index = 0\n",
    "while index < N:\n",
    "    particles[index] = points\n",
    "    index = index + 1\n",
    "\n",
    "\n",
    "#possible configurations of the system\n",
    "config = [p for p in [*itertools.product(*particles)] if len(set(p)) == len(p)]"
   ]
  },
  {
   "cell_type": "code",
   "execution_count": 40,
   "metadata": {},
   "outputs": [
    {
     "name": "stdout",
     "output_type": "stream",
     "text": [
      "[[(0, 0), (0, 1)], [(0, 0), (0, 2)], [(0, 0), (1, 0)], [(0, 0), (1, 1)], [(0, 0), (1, 2)], [(0, 0), (2, 0)], [(0, 0), (2, 1)], [(0, 0), (2, 2)], [(0, 1), (0, 0)], [(0, 1), (0, 2)], [(0, 1), (1, 0)], [(0, 1), (1, 1)], [(0, 1), (1, 2)], [(0, 1), (2, 0)], [(0, 1), (2, 1)], [(0, 1), (2, 2)], [(0, 2), (0, 0)], [(0, 2), (0, 1)], [(0, 2), (1, 0)], [(0, 2), (1, 1)], [(0, 2), (1, 2)], [(0, 2), (2, 0)], [(0, 2), (2, 1)], [(0, 2), (2, 2)], [(1, 0), (0, 0)], [(1, 0), (0, 1)], [(1, 0), (0, 2)], [(1, 0), (1, 1)], [(1, 0), (1, 2)], [(1, 0), (2, 0)], [(1, 0), (2, 1)], [(1, 0), (2, 2)], [(1, 1), (0, 0)], [(1, 1), (0, 1)], [(1, 1), (0, 2)], [(1, 1), (1, 0)], [(1, 1), (1, 2)], [(1, 1), (2, 0)], [(1, 1), (2, 1)], [(1, 1), (2, 2)], [(1, 2), (0, 0)], [(1, 2), (0, 1)], [(1, 2), (0, 2)], [(1, 2), (1, 0)], [(1, 2), (1, 1)], [(1, 2), (2, 0)], [(1, 2), (2, 1)], [(1, 2), (2, 2)], [(2, 0), (0, 0)], [(2, 0), (0, 1)], [(2, 0), (0, 2)], [(2, 0), (1, 0)], [(2, 0), (1, 1)], [(2, 0), (1, 2)], [(2, 0), (2, 1)], [(2, 0), (2, 2)], [(2, 1), (0, 0)], [(2, 1), (0, 1)], [(2, 1), (0, 2)], [(2, 1), (1, 0)], [(2, 1), (1, 1)], [(2, 1), (1, 2)], [(2, 1), (2, 0)], [(2, 1), (2, 2)], [(2, 2), (0, 0)], [(2, 2), (0, 1)], [(2, 2), (0, 2)], [(2, 2), (1, 0)], [(2, 2), (1, 1)], [(2, 2), (1, 2)], [(2, 2), (2, 0)], [(2, 2), (2, 1)]]\n"
     ]
    }
   ],
   "source": [
    "configurations=[]\n",
    "for elem in config:\n",
    "    l = list(elem)\n",
    "    configurations.append(l)\n",
    "print(configurations)"
   ]
  },
  {
   "cell_type": "code",
   "execution_count": 41,
   "metadata": {},
   "outputs": [
    {
     "name": "stdout",
     "output_type": "stream",
     "text": [
      "The total number of configurations is 72\n"
     ]
    }
   ],
   "source": [
    "# total number of configurations\n",
    "totalnum = len(configurations)\n",
    "print('The total number of configurations is',totalnum)"
   ]
  },
  {
   "cell_type": "code",
   "execution_count": 42,
   "metadata": {},
   "outputs": [
    {
     "data": {
      "image/png": "[encoded data removed]",
      "text/plain": [
       "<Figure size 432x288 with 1 Axes>"
      ]
     },
     "metadata": {
      "needs_background": "light"
     },
     "output_type": "display_data"
    }
   ],
   "source": [
    "fig, ax = plt.subplots()\n",
    "plt.axis('scaled')\n",
    "        \n",
    "def animate(frame):\n",
    "    ax.clear()\n",
    "    ax.set_xlim(-0.5, M1+0.5)\n",
    "    ax.set_ylim(-0.5, M1+0.5)\n",
    "    start = -0.5\n",
    "    stop = M1+0.5\n",
    "    step = 1\n",
    "    float_range_array = np.arange(start, stop, step)\n",
    "    xcoords = list(float_range_array)\n",
    "    for xc in xcoords:\n",
    "        ax.axvline(x=xc, color='red')\n",
    "        ax.axhline(y=xc, color='red')\n",
    "    elem = configurations[frame]\n",
    "    colo = ['r', 'g', 'b','k']\n",
    "    i = 0\n",
    "    for t in elem:\n",
    "        circle = plt.Circle((t[0], t[1]) ,0.1 , color=colo[i])\n",
    "        ax.add_patch(circle)\n",
    "        i =+1"
   ]
  },
  {
   "cell_type": "code",
   "execution_count": 43,
   "metadata": {},
   "outputs": [
    {
     "data": {
      "text/html": [
       "<video width=\"432\" height=\"288\" controls autoplay loop>\n",
       "  <source type=\"video/mp4\" src=\"data:video/mp4;base64,AAAAHGZ0eXBNNFYgAAACAGlzb21pc28yYXZjMQAAAAhmcmVlAABXl21kYXQAAAKfBgX//5vcRem9\n",
       "5tlIt5Ys2CDZI+7veDI2NCAtIGNvcmUgMTU3IC0gSC4yNjQvTVBFRy00IEFWQyBjb2RlYyAtIENv\n",
       "cHlsZWZ0IDIwMDMtMjAxOCAtIGh0dHA6Ly93d3cudmlkZW9sYW4ub3JnL3gyNjQuaHRtbCAtIG9w\n",
       "dGlvbnM6IGNhYmFjPTEgcmVmPTMgZGVibG9jaz0xOjA6MCBhbmFseXNlPTB4MzoweDExMyBtZT1o\n",
       "ZXggc3VibWU9NyBwc3k9MSBwc3lfcmQ9MS4wMDowLjAwIG1peGVkX3JlZj0xIG1lX3JhbmdlPTE2\n",
       "IGNocm9tYV9tZT0xIHRyZWxsaXM9MSA4eDhkY3Q9MSBjcW09MCBkZWFkem9uZT0yMSwxMSBmYXN0\n",
       "X3Bza2lwPTEgY2hyb21hX3FwX29mZnNldD0tMiB0aHJlYWRzPTYgbG9va2FoZWFkX3RocmVhZHM9\n",
       "MSBzbGljZWRfdGhyZWFkcz0wIG5yPTAgZGVjaW1hdGU9MSBpbnRlcmxhY2VkPTAgYmx1cmF5X2Nv\n",
       "bXBhdD0wIGNvbnN0cmFpbmVkX2ludHJhPTAgYmZyYW1lcz0zIGJfcHlyYW1pZD0yIGJfYWRhcHQ9\n",
       "MSBiX2JpYXM9MCBkaXJlY3Q9MSB3ZWlnaHRiPTEgb3Blbl9nb3A9MCB3ZWlnaHRwPTIga2V5aW50\n",
       "PTI1MCBrZXlpbnRfbWluPTIgc2NlbmVjdXQ9NDAgaW50cmFfcmVmcmVzaD0wIHJjX2xvb2thaGVh\n",
       "ZD00MCByYz1jcmYgbWJ0cmVlPTEgY3JmPTIzLjAgcWNvbXA9MC42MCBxcG1pbj0wIHFwbWF4PTY5\n",
       "IHFwc3RlcD00IGlwX3JhdGlvPTEuNDAgYXE9MToxLjAwAIAAABAhZYiEABb//vfTP8yy6/c5teOo\n",
       "96KeJl9DdSUBm5bE7TqAAAADAAZ25c2YJt/4boR6gUuin5PA2pNqcJUHPXjEgu5HuvpPKPZ78eNo\n",
       "a/76iCOHVCw2SWNoOha43b1IsS+CwDVHeoFJvdhSqUV7lSVXMqdznoLIACYHsNO3nt4i/UHJGPUv\n",
       "37+xxxNeR03ASMvBBM12EUhOuKXZK7AqzfOJpySFWanh0g2V0m19IvujEKW9P5E4CvHNzbNrD3N3\n",
       "ZiKQUGm2JKW41cAsdCUPyhyhIDyrfWWQmA45u6bDZ7rlEfPxa7jTOxaWopkrU0WTQ09tvVc9Wp5V\n",
       "wFcgVC4Ll/ADDA+Gb3/Ej7FO3z6YRAhT8jJZDAWRwP8x2+3IXnppyAx5OaKejV/ti7ftIUWLceKx\n",
       "uYTqze09n8bWk6BNnbnSP0lcdJF9zpi+dgOFDRWwjUBBZaKpXhXgYxpOZTLslZuXRPOfGWl+Skja\n",
       "jEyDzJUYZAzNc0mRkHIMueWoR9FxwqoxwH7pZIteNXADmMREjQtvd1C58l+ZOLgftKhD4koy2KRs\n",
       "FcHUtJMOUo7PLuhesx6GYCRrMFSlYBSyVbrEjEd8bVJFV7UDCRm9877Uj255cXOSZqzP+s8dW6eT\n",
       "/DadKg1NxbVYJ9XntYxANizvR9KfL8ispI1EFDsGrYx9WKnYSbhQ/rg8DkHIL9cfo3GFf+MHbogz\n",
       "1xJ83H5z4yR0BFEWHF4Rh+fDx+kVCRStaD6LFG/GrD5CjOiv7NFCsZYnOceX8/UOAanjnkvxmVi/\n",
       "JYdzGhf+U+NuKxgZdXJwkvIw6Q4C9gnlJ2/tLTerS8i0qa+DTQZvCloDezjK8XvCX0YWntc4/2/v\n",
       "h3+4lkvLzSR0Kwnko6sMbqJX28rhzt+K9lHeTHfWnpetF6B76T3O1+kIc7Vphvmyl0Mg7v6YCoTd\n",
       "rXN+Ho6dGQ80175CMgLgcYB21OC9Npgx2we2IBJ2QQsSmgMS+Ti6LdE7r0yFpnotpzxqM680HK88\n",
       "c7zaiES1hZPkwzY2QxkkZbiw/A/bTSwfWy6PJ+FV5ptLWbFyunNW6HxLgbdTKXNsIVAR8SLbuGPR\n",
       "2xLpEMDOVCn00oTFAyX3E3QvVBnsy8azLo5GUeJssaSVaWLPrTyYMc6IB/IN0NEJOTDbblSlP/x+\n",
       "In0Zj9MEpCcasDqG6Qpi9rd9EXmgxD4T+cgnkvaV5xtKiWf2S4YBpNnzR1PB5lj0mCCMXrOOPgA6\n",
       "eIoEod4WEhQEWbp1b6SNyvrpoaZwEPL52gvKJHjLImyVRRYSCUP9Wmg+0MEHY4FV7w+nYb6NTyeN\n",
       "3c6vrN1VFy0fztF2w6JBV9lnjGQAttCotxBTokLNIEudA/7ZPIsO51DWe/Ip8HS9KfTfksdqJumO\n",
       "NztJh4askzKwMkpsTYblG9/fIMISnkUcFovmonsqk0vezCezcrW1PbgwfFQ9pXOOIEsQe1FnceV2\n",
       "Ro3nm3f+5HhZ75t4Pr6dGoV6HMQX+1+0L6IFc03FSWZjOT6jRb63wSVKoTRFutPSbEGRyW23B5o8\n",
       "tt0AgFwOMA7anBem0wL32W7Yqw/0fDA5RaGaJ7uXpYi6O+cxWYrw2Dy1+cYJAzXTG6M4MwAK6r9/\n",
       "mwWGJ0mKWh67vBXKtDiQA5TwcNUpVX3tuFlmHBfoktYhco/a2L0d/ZhzrHNdom7qZ3cIyC/857WH\n",
       "iBj3obfqTXlGozC/97uSpEVPqNqyOHGjrQFa1sjB2Y6gGPqdlV2Ua1Qv5IKqjRm5yRTRJwFjK9FV\n",
       "CvSYruGp9Ignv5jlmBvirCzJWCDV86y5Z67ET8yxAW18/1FTXm+J52vxGEZGDhgrMDlj1tD6YLYK\n",
       "AH1aaYzaztWRks4Nr53ACdBvrZXDuctEi9J8lEqKHbq/sTwVgmt9nEnqwLCN7gdPbBEE2l6ERl1t\n",
       "mBIUka1tPCWJQRgakOsrY+H/dMgjUYx8Ktbklhw3KOLHHk+Fe3JMA+ttyNPmHnHKPS4mK+SR0ZJu\n",
       "h1KZyP2eHcSEW64tyvM7NzodmEQbaoJ/T7xaA4HloAODRlpkrNorTsX9LgqFNb+WhEoN5v2pDPJD\n",
       "K3DR59BWmMBkTQB5azW7eTgf5clj9MQtW57esbTSH600ydx2XWApSLI7FEomiwv8vX2HMQtEnmL5\n",
       "jOHRbl6KceWgDDPoOsm+4LGs4QTVZgYPbHOdb3SrcZ4MAVj1aF/GEKvQT2MrGJRtIWWOm2lIFbKH\n",
       "TpYYKdXhCcvNimKaJ1Meh5pvkofHAfugqwrkFP2m4WYdBM7L/KqLxU22h8mI6O9CoKWO6w5c1D2j\n",
       "/mO2X/+2dMMCslH/AXEereHeRyzn8vvXDhp+bb0BmLS+mGczqlcR/nGWgl8txE2PriEZBaApQWh3\n",
       "xiAt23R4Y7jUZduGb0QgpJGnPhPiZE9JDN7cdvROUBTXVbe6i2Gvjl4AfhwXP906shmVVSf79PuM\n",
       "Bh9R76GTF9Lx8eAIQsivrDzsLUuxwQoa4Oniqnl1xd3AvVr+qiGPqFsrP67J9Gf6oWYhWoCgelnL\n",
       "HA0hRLzUJ+l7qDVz0LFHeMP1gd1iAiZorMgDdXEu0zGm+TLlnm9aInEtW2/+J40bwf+4vazxN4ck\n",
       "1F58nnefiMApX12zbXiZKxA2K+3CiWUX6MYGBTwPgrcv6PTxNxQUov+7aVblbF4hIche5L7/sGuQ\n",
       "Gr9AqneGI9D6V4WB0FSXjXB9zF3PWU3SZgIkkKalP7LtuUx3JJdLzYeXXVfNqnxppc3sDpM5OnIj\n",
       "KgJIz43q7F2W9qH0EY6+LoKS/mXeNyMsnFHWccRK8v8dxbUlNeAEDm3cD5onFlaDCBTsI0IcAn8E\n",
       "i26zKeiepF04bD75+LFb57Ad3wSY8pHQjM3jA2HLQ8V042hjkGfgzrqmsUuwlhWw1ySc1Kxl9QLM\n",
       "Iyy8FkFSj+W8ftHzxE1zEj6eHoOXWpmSgxZD76/iZXMl622WAsuNvBtzILZyEFr/qM2zH2nMKcOZ\n",
       "YE/FFfvFcZJKTHGmfuC9mZcKU0IpaYD4D9DTDbGxXVnVVwyYNGioGDkIyzLIi8cqxnksFuFPT/qJ\n",
       "EOgzSJ/g09a9t5nCzX2li2KYC9kUE9A52T1GFyOuux2IUjk55NIL89XaQ7Be8HE47O1epQebnDzk\n",
       "O/QAq7kOIA8s0bH+9CrFvqK7ID2y9xiSwMpcwcMjegaHtzxkVap508/AMF0UDiWdD/9vfH9NW533\n",
       "nug20JoJciORlUavCByy/54r/ifpnvm3VnXqg/Rrz4oSFI0ds9HX14W56eeN3qEljB8FvPHh5GyB\n",
       "6lN7t4Rmz3IzO9l83dp7/W+K73FQ/6OFTGGF9ut77GHfcvTD3pPK1XXVmJyMHwQBKxZGdogAbpSD\n",
       "ub8rMytFIocvOM94WNhevrhkdoYJW8Y3m49ItqOs3EX7smojfS3Xv+GgUOXZ7H2gneT8kKYbof3T\n",
       "FTCI535mLb9h+wMi96/1yYXhWWkuECLRHdrW3+Hxv3H5kjKglsivufbklupCKdEMWLzW5nBhU3AE\n",
       "cxAgvayWS2VzLT19mkMNklqiDmNXGMtJIfPno5Eg9LPswdpWrDsix/K249gIn9bSMljrUikMghB6\n",
       "fxgC05QeTvQy6ICDKglsivufbxFbqX0f3U6w+18MN4HZSuygBAdMbgA1Y6p6RjrrTRnvXXczu3Ce\n",
       "wyXr70LpIYDPpQGsqhAKvNa3sTH+MpP+P+nwDkbvQYZmBbBTghqde8LMBKv94Wj6raeMVpYwVwwz\n",
       "+J1wTx5iAfptfvMALxUZSAcTJ6W0TfgZuzO5ywUh8SOt1nX0f72SSguuU/FhwgKhNrlvdIBRAgVL\n",
       "/hG9bas2mSrIBuGyc1hzjsT9s04W+wW0kwX8YclKrTlR1G4yW70Us2ZDorf0A4w+UDotggCE57a/\n",
       "B1MlBO9dvR+W6zFNZkxxRiTW6ui81XRyjtoiMMUZR8siXKYumrXXbQoS9GJ1x7q/yh/fCDS4Bls+\n",
       "fvuFkx3IAfisMo6wekGmIOg8ossvzwT7L8wcBGlZp8ITA5Lgj8UtU72E5HQbY8XCb1XaVRJu7Z7r\n",
       "ytouoFWfV5eve2Gy4CqoKhlYstbNgyxUYWMmyRvPLcCP4MvxNyNeqSdDjG50580ip1hh2HkFWTq3\n",
       "ygtC7BYG4FvsRWx54Gc9cwOI+TKl9MOgfmkyAhbTQbG6EqnDREOJzfxj0muwqLUGmnbgtOyDI2jy\n",
       "KRm/hwI56SCAoLg0xMXOrQ+ev8GGXLhlfazx68rankZD1I4hcVZ+1spZ4EOiRF2ojIkBva3dOcDz\n",
       "/x3fjD7Tbsa8PaLZU0oUlnh2mO7VEQ3sN0xQ2jxjAMMf9AtGGEJx3pyFu53A5Kms/pRSrOTcdFZ0\n",
       "W4O9+8DQnpWR7fODZ/RWWFMEvo/xu9SWAk+Iv2CRrp7EUWxkU3A74upwyRdca1XOuF9BWb/qjEoD\n",
       "2QGVuOm3grMNtzzcX6RCBPZ4Y33jA9DdxK0g8XW9XXK8i0j0EB0qMyUcV+kB9FBgjVswcBN0zNFV\n",
       "Qf8Cflvy2NHTRquBSLJYrnRaht/Ba3X6AvmbODYGPQytV4lrG7A6KVrn/1UlQiu1L+z9oiQSQjQX\n",
       "2Im0OLJ3a4f3rU5JMmOVcitYQouQ0pO4h/O7Tl3mxhkaJRydx7iNMakS/qlyX6huUeqrkD3JQWs5\n",
       "tVc7TGBRFoN2w2J+5Vd+2H7cD9ShcTSd3JaV/XTeaPFpJR6lR6+VWzRPAiLP1YG/XH4cCAKSk+iY\n",
       "PVDjdMK/EQ73zdkAJvhnVUzYfBtNFY5bJJXcpiboulkyikZzXlzqVPuClLR0tVQ8iJyafe8GDsnp\n",
       "hBHiRkjiaMT9392UD9GPd5MesfjTK0mtKTRTi03ViWbvU6nEsJU4r+LLyH1rehsgFSWXQa0Cv0Xu\n",
       "Af4P1yZyQf1jkrnQ6DVK6PyAkjSwxbV016F0GZtHCv3RdXnhPFggQb5YDfnBNVV9Qxej58o5bvc5\n",
       "sJ+mBaEf97Ydv104fpTIfhEEv+tmioN0ysGCAfCmlvSq/SuZBeEa3Y+PdrwdJMBhQLycXT0KLi4T\n",
       "vXu75eW6xUyUhHJAJUN0o3sXwrLpju2GGOK8lIrZWYye3hxMFRp615I9qdw16mjtMARSMWFXBIUG\n",
       "oCMP7ra497RTuotjatghrEhUqwSrgAnbKkRNutl+37FNzNqBH0lFbvDUR0K9o112KhJLXSh20b5r\n",
       "zd3/dKl0eWar5p8ZUxgpXd5fFUUl9mu6CtPE7ie/PaHWgChYwvxl1fCO2Y1ytnBihUA6VHx/fIPX\n",
       "RUJEjPBORv0M+NT1vXYiYaj/jFmp+Vg5JQQjshDVzMceNKExrn8q434xz5mANVLqGslcTUfe24RI\n",
       "BmzNmw1SBbrjfBgNQFOnrQ4nIkRf5106eeCQ/4yAhrHQ+DcE0UYB9EI/tStKSvCmx6tq3oKBxdIc\n",
       "ke6bu2Kii7Q5VdgFmijSOsqsz6RxA+Z9CUvbMuJMiNzLLXJhQLz6CV0a/5JLk+sPjEj/mU9cnLou\n",
       "VYA40BoBfQAAAN5BmiNsQW/+1qVQAA0H7J5bgpMJ92SfCUo4AKmhv87QUCnllaDzfnrjjXzYIsIM\n",
       "Wky8yYcw1pSCfYVcf3VuhnNUdAxoZ1g/6hjZjf2xMtEb7pBBPww/qd7Ed67qbuLd7P9jAVReY9Z2\n",
       "JqgqavXhbQJ2UBA6sPHHJGaVpSBRIL01vBbX7Mba7cL1k7UUGk5jmPqVoTiIOGgkg2tWcNmv00s9\n",
       "SvcC7nKLd+/Jfne/Bdhm1rVbig9I95UX8qPPeWdqmBFS5pJMXAz/oMflnf5N9hzDaMxwW2clk18O\n",
       "Xd1HOMAAAADYQZ5BeIJ/AAP2Iv+wiSYoAN1Co8Jf0s4Q/j0q8PXIo30HBVklBFoDLGnRsBxifTAy\n",
       "C8uLk/p3IzdJ4yHzGHo8yj61OBDuvdj9h5F0ReysH16UxINDGAzxdjZvEJ7sCKeyRh5QyfiOLE+d\n",
       "q6PpfJraOaOGDXScawrjKIO2JppizFDMXJh49ZhURpmJPsyortRFOwL2pu9t/aWUfMY9bqNtTJ9G\n",
       "E2G68Vg5TJMJ+4Vlz55dq5LjDxwA85QC5rsPV+fe2MnNjHYHfiuMDhQE8D5XMECDXtYf3OVlAAAA\n",
       "vAGeYmpBLwAGGUynCzX1y/7F3VAuVDGoLaQRfomcjvLfoEAGyw5IeW23u6U+bOtyrL3wJGhR4rX5\n",
       "pR9edQE+jM9veVvVe66TIyj9159WlgESeItnYQZ7loez3H/hLKH5hhcKaP5Zj6CB8nrbfvjTWFX9\n",
       "kbafl814OL20JHQ2XsRBas/maL+wa7FW20x8ad7jFm+wj6oapAhI3Pxigsjiv8nMxV8Jq7XFVPIV\n",
       "5o8efoqkdubNcfPt8D+zAMtGAAAA60GaZkmoQWiZTAgt//7WpVAAC3/vZrlVTZX/hoY0ABe7LRg1\n",
       "FqmUDzmPhHuuYPeHfsLJRxmT8zHwfTRPz9iE8C8Fd6IbzIkcjm8gdKKc/uuj309rw2UZr3Cc6F37\n",
       "6bRt1IuT8DYwckfSfTPZvP33U0tFfX75616GTKCErD60rs3OGQh1RM4MfWJ0lSCqld7Z0Chav1M3\n",
       "qiCa6Ga/WguJwKVgrBpepphUW0ik6YikLrUrGiBgUkH+MapSDJzYHMoDniHOtCtfUcWRBRfIP+je\n",
       "XfOgoHjugv7X3ofPD5xBCpb7dOlCsYPzMz7rAFsAAADZQZ6ERREsE/8AA50Cf4QUpIAWyFSDO8oT\n",
       "W1DpqleZcEUQEhZryyRxY7b9v4j9bp7TklwY/t7mQf7spfVDFgLImWmfxjM0JJUFlS82+/HA+YVc\n",
       "mNKhI9u167GRqOnAVInVTg659sKBPP5ac5Q6EvMD8vEdUeAULvv5uk1zaqzzF2XwF+VdaZXXzcVo\n",
       "EKEoSW27kma5x1s3Eg00eYYHPbzZ5JTRhrkldgT5mH+oHr8Mn4zU/QZpOjdOfZFozxSoRDeinSGe\n",
       "TPJguPg+zwmhoFDqM5ACX16V7MAYQQAAAMgBnqVqQS8ABYcQOoDiZ4Hza7Ay5l/eGUHBGmaA7Edd\n",
       "6thM8/cM+B8MXIa46zXcxFETSYf22pQXmMR/vRTnP6h2lPoYwUq3/LZeK3CmgIF4I1hqp6xjfHyT\n",
       "ozjz307HFxCKkAo5lD2qrpiKVziA+3xS5lJ0BSIUbRCL6rLGxc/U6dX0aA9wqmDmxeiJUwp4F5+J\n",
       "jpghVOwcn7zt3P442GgP2rYlLj3qabzdLuk0E5/b+RzjpqRXj1iGpic2oWtsGHCuChny9pJvlQAA\n",
       "AhxBmqpJqEFsmUwILf/+1qVQAA0G+P/DQ2KAEWzDdQk1grYkc7jQ3/TnezXoAeLuNyigxORnywnj\n",
       "GolwxmjJUYbT69y1UC9pJtt8v/0+Diw6Lro833BT19vG/KzOqGKRe/XUSZBz+xuAgd34NLIsBljn\n",
       "TviBNZMfUf8V/QOorU4ZpPJWS3masMT3sIWh+lZTl8WvnS0vLQimC25PHAYhKZMf9gBgKI3cBdxX\n",
       "dHKOUGUNMedF8fbGKiKOp+fh6zO3taWj1VUbwVaqDbkIw2V4EjJQ6KZlhzj+bZw8Ssb2yUIdctEY\n",
       "3Vnoaa44gCyeDy8CjJ6fsXVIFs+itL0pPUbKs7THs3TyleT9V2zSXslP4ZaSBNVa9YniwYrKtygS\n",
       "pO3tA8i9o1F3wI9Y1X0RYzesDkv1GfXO0vWE9TX4WjZ5QQstf/7wR6nmY11d0GSCVZByQ9Va8eja\n",
       "Wubu2hB7iCBb9vFpOSf2hWlidtyeZ1zO57Vqh9LV94K7arwn0I4Yk7HwxpMge3blu51bBI0nW34s\n",
       "Q0oOZHxM+8emMDtXonRq8NAPyLlc0f75MdMWrIXCtBZ7qGr0dFyHkwqZBpUmtsRyRiKUzwLKg6yf\n",
       "DnzrjNVH96eLkd7LzulXeVFCYS1j59w01b2q04nNir/kltcR226SxgyeMsgCsa6Rrs1g9fHh08il\n",
       "aYZpAzvJ6zFzXQmGJeGdrvA/DzUt7nsvCsqvozcAAACHQZ7IRRUsFP8AABHK1qYRgsgdcHWxaZg4\n",
       "fV3knElf3pglCcaL581UOOyDtq/i1FhhxKsBodZfS3WW8OKoz1vV57Wan10wyAmwtEm5xOBfx2pV\n",
       "y606wKzduIyM5LWe4Wz5ryACq/KJgJdzfSUd2CODDNR35PwMbKMkDgUgDPOpNquRnX80xGmIAAAA\n",
       "8gGe53RBLwAEylt/Ya1XwAjFxyP5IPj9p4pCYOX/CJf0D//LPLWdIjVZXWIGGr5770N4vaTXDClB\n",
       "wRVFff2bwS/fQg+xyz3PGqwVjyiLisVj9C1T2cnqQDmDWyc0/bo8SfMwnZsUkH8pJX8LadsliUEN\n",
       "vPjxeCUviNmpf/oj9MhLfyVe4nlF042cvPgB4txrAXJH3cJ02V8JagTX7Jmc4O7Flu8BumsMr9xZ\n",
       "LqAxikXdMIm1XP7cqrE/iWaBMOONK+HpYkG+bsrrPSxTEKSC2M0NTQzAnvYnA/hgsR8DTzV29mZf\n",
       "OhnNvYrRHh9l0mHjcJmAAAAA4QGe6WpBLwAGDTV/YRKZoAIlcUMJ30s4QHDga3iEUKNeDgqySgiz\n",
       "5lfItsm8JN0yUn5vFygg7kZus1MNFmX60+Kep6Ahwx05TzjF0RewYGCfypINDGAzxbh5uIQQVTI9\n",
       "kJgbCNGU6H++GXmFz61TuYMcMGuk41cWEOHOhjbjOgRuYuTDx6zClCLMSfZlRXR6+dgXtTdqT+0s\n",
       "o+UnQ3UbamO+Ud41q8Vg5TKlTCBwTr54AKlLexSv+XGgvAgVf6EivA5b55Zzb0FMYG6hD4rUbr14\n",
       "mzno1nz4bxtj6WGroyMbaQAAAO1BmutJqEFsmUwILf/+1qVQAAynHqUAD+rBR+Q7kbJ5P+X2MpKb\n",
       "rPyzE2tBeu5LB3GrRvBHrOyNEo2vZpV51xRmjBW4gaJ3+gv0M5qjoGNDOsH/UMbMb+2JlojfdS0E\n",
       "+QLu2z0lKK1SaRwJ9Fl5i16Iw9Ez1lu3W10ltAnZQEDqw8b5F63AalXen4bna6K7EM4Aus6uTM4n\n",
       "+pSfbHoh1nvnvBv+eiv00s9SvcC7nKLd+/JfyLMRSuVMncvl3yDXgWgcO7eaSJxhVEy5pJMXAz/o\n",
       "Mflnf5N9hzDaMjloER9ElmZszzDFYUJ+iv5V2x8AAADrQZsOSeEKUmUwILf//talUAALcIAuT2ex\n",
       "lf/hnZMABe7LRg1FqmUDzmPhHuuYPeHfsLJRxmT8zHwfTRPz9iE8C8Fd6Ib1W05Zwx/r1FOf3XR7\n",
       "6e14bKM17hOdC799No26kXJ+BsYOSPpPpns3n77qaWivr989a9DJlBCVh9aV2bnDIQ6omcGPrczD\n",
       "Ckqt98WzewBY6ZvVEE10M1+tBcTgUrBWDS9TTIcy7TVjEr1YrUrGiBgUkH+MapSDJzYHMoDniHOt\n",
       "CtfUcWRBRfIP+jeXfOgoHjugv7X3ofPD5xBCtbzsyVLRhCBV8ONwtAAAANtBnyxFNEwT/wADnQJ/\n",
       "hBSkgBbIVIM7yhNbUOmqV5lwRRASFmvLJHFjtv2/iP1untOSXBj+3uZB/uyl9UMWAsiZaZ/GMzQk\n",
       "lQWVLzb78cD5hVyY0qEj27XrsZGo6cBUidVODrn2woE8/lpzlDoS8wPy8R1R4BQu+/m6TXNqrPMX\n",
       "ZfAX5V1pldfNxWgQoShJbbuSZrnHWzcSDTR5hgc9vNnklNGGuSV2BPmYf6gevwyfjNT9Bmk6N059\n",
       "kWjPFKhEN6KdIZ5M8mC4+EZR3fdi4rBiLZ5N2iWqQ9BV14EAAADKAZ9NakEvAAWHEDqA4meB82uw\n",
       "MuZjtZV3OE1hFRQHYjruAcXnw3L/3nwxchrjrNdzEURNJh/balBeYxH+9FOc/qHaU+hjBSrf8tl4\n",
       "rcKaAgXgjWGqnrGN8fJOjOPPfTscWtIWQCjmUPaqumIpXOID7fFLmUnQFIhRtEIvqssbFz9Tp1fR\n",
       "oD3CqYObF6IlTCngXn4mOmCFU7ByfvO3c/jjYaA/atiUuPeppvN0u6TQTn9v5HOOmpFePWIamJza\n",
       "ha2wYcK4KGfL2kc3pQAAAbZBm1FJqEFomUwILf/+1qVQAZ7jZgaRXDcxOF/+USg+A24cHgxfUikv\n",
       "Kb1lQBEL+Hb3+Y17YrxRkvTHFnf5lac+k0BuXcbff8KEOqF1kYAl68c65nbDr5M3VkE+ioHHsGtR\n",
       "lH0g7VWgMG4R2lgdKXtZFHZpuHt/dR6Gn/hLhvCet6Ki1B6f4uYLdrMuUwVI4xUzR7te5jyONRYU\n",
       "ZoOlEDsLsNpGCdMKR/IFjGM1KVmPtUBF6FWGBrnp3uqMchOZrWoj+ePWWK08XOg0x1h35IDCbvEp\n",
       "dqTI1YGiTYgDxKhb8xbPqNB5KalCgsJbXN/jiUiryAZH2qxCzTjNFB1CZUoh1ldVvXekhdW07JmF\n",
       "hnuYG1cw4sr4+rQjZNcd5pVrwJB5xJaGeGa/U0jwq0D0Lz+it3GJ1m+FAq1TQxmnuGuavGLCkCIk\n",
       "EoftooYnvpmMpPGpuoFMZlfa/fuyCSQCL/yYNd8468GCZU/LGCkDJYG6l1toIXOvk0AaNZp4xJ3K\n",
       "Z0qsSFXeXNS+RuzG7APOZHr4P8KbCcZKJ0DJ7vGG+0HyqMehpGcTLYpCBPcCfoXn/hZhaYjorMEA\n",
       "AAD/QZ9vRREsE/8AA//UkgVr/sNa0AAWyFmcm/HyB9zJSWEGMhsOpA//y1itb4FKyDLMN+RNjeEH\n",
       "74kyxFneeAXFKDgksaQeJXgl++hB9lMxoj5VgrHlEXGSQO6Fqns5PUgQSCdkZqamyvhBq9AOLrYF\n",
       "VW5G+HR2Zs00lElh4vBKXxGziBuXN+mQlv6avb7XD1cbTIqhl9reH+ZMSd3CdNfS6WoE1+yZnulu\n",
       "xZbvDleoNK/cWUpwMYpF3TCJNVz+btnHP4ma7hSWVxlhg0YFsp9mrSAfyIvkPaURp62Fwu1NxWlZ\n",
       "auyuHriZxXmCPBSgLUHept+iaimhRb5b9JVxVg7oAAAAzAGfkGpBLwAGFI4+29aQ+TFueU01uT+9\n",
       "rBoO0pxCWxb0295QefuGd1gALZhvY2FgJ4Ll2/Ary8KfEx7EeBIDShYfTYmBg/7MDBx5XgcZf6Nt\n",
       "WMPpQftLxkZTTsBXiaWTkg424fbfUwtBHwlTO9M2oMW03ifvYk2DeXqdra969dSWGRnbm6n9+jwU\n",
       "qhBCFFWBA6EQqvNbAPzSRluEDhqtVMAXP+Leh1Lun+M5civ4gShv3PDkBMUMcwy9W/A/Lqrywqt3\n",
       "7GihHwBRdIi7gAAAAPBBm5NJqEFsmUwUTBb//talUADKcZPAAB/VIPaQJNb57H9kuZyEhvdb8UnI\n",
       "af9Sl+oENbFxxgVXB1NdFCvnKuqdmsy5059U4tTZ03jbT//dW6Gc1R0DF2HKX/I/RvQafiZaI33M\n",
       "sCfhh/MegIbsvblk3r4p4w/dNBYezxxy5P7a6S2gTsoCB1Yd5m8F29bCUSC5KjKcRmMQZMQF6yqB\n",
       "wLs05cwWJX1UwoNBbBuNZKyK/TSz1K9wLucot378l+fZzo+q7lWi02Lu9oWSaRx57yztUx4mZkVV\n",
       "qJETd5y5c4TFN4ww2jCffmK5m57t0/BGHMEAAAC8AZ+yakEvAAL60e35z9oZMAKiEm5Z/ZqrmfVf\n",
       "JnI7y36BABssOSHltt7ulPmzrcqy98CRoUeK1+aUfXnUBPozPb3lb1XuukyMo/defVpYBEniLZ2E\n",
       "Ge5aHs9x/4Syh+YYXCmj+WY+ggfJ6237401hV/ZG2n5fNeDi9tCR0Nl7EPEYH8zRf2DXYq22mPjT\n",
       "vcYs32EfVDVIEJG5+MUFkcV/k5mKvhNXa4qp5CvNHjz9FUjtzZrj59vgf2YBc5QAAADrQZu2SeEK\n",
       "UmUwILf//talUAALcIAuT2exlf/hnZMABe7LRg1FqmUDzmPhHuuYPeHfsLJRxmT8zHwfTRPz9iE8\n",
       "C8Fd6Ib1W05Zwx/r1FOf3XR76e14bKM17hOdC799No26kXJ+BsYOSPpPpns3n77qaWivr989a9DJ\n",
       "lBCVh9aV2bnDIQ6omcGPrczDCkqt98WzewBY6ZvVEE10M1+tBcTgUrBWDS9TTIcy7TVjEr1YrUrG\n",
       "iBgUkH+MapSDJzYHMoDniHOtCtfUcWRBRfIP+jeXfOgoHjugv7X3ofPD5xBCtbzsyVLRg/M18NwA\n",
       "tAAAANpBn9RFNEwT/wADnQJ/hBSkgBbIVIM7yhNbUOmqV5lwRRASFmvLJHFjtv2/iP1untOSXBj+\n",
       "3uhkjwUbh8KX1Qxi6yJlpn8YzNCSVBZUvNvvxwPmFXJjSoSPbteuxkajpwFSJ1U4OufbCgTz+WnO\n",
       "UOhLzA/LxHVHgFC77+bpNc2qs8xdl8BflXWmV183FaBCPqEltu5JmucdbNxINNHmGBz282eSU0Ya\n",
       "5JXYE+Zh/qB6/DJ+M1P0GaTo3Tn2RaM8UqEQ3op0hnkzyYLjineMqyP368Kt2jGr96CrrwAAAMsB\n",
       "n/VqQS8ABYcQOoJ1+Kc16H8JIoBRZRm8wO0acoDsR13pJ5z4bl/7z4YuQ1x1mu5iKImkw/ttSgvM\n",
       "Yj/einOf1DtKfQxgpVv+Wy8VuFNAQLwRrDVT1jG+PknRnHnvp2OLLkLIBRzKHtVXTEUrnEB9vilz\n",
       "KToCkQo2iEX1WWNi5+p06vo0B7hVMHNi9ESphTwLz8THTBCqdg5P3nbufxxsNAftWxKXHvU03m6X\n",
       "dJoJz+38jnHTUivHrENTE5tQtbYMOFcFDPl7SObKgAAAAaBBm/pJqEFomUwILf/+1qVQAaD9klBD\n",
       "4AQgcIIvYfol9NMbRi0WNgyaHOUe/ve4uH/1XzpY1v/RArUEu5XrZQljiKcJB93juQXA3Rbz6mn+\n",
       "+tXBWDdukl9JJgQyq8CF8LfOJtI9eeO2H8QWTwdtAwzoFAhVN0FStU7b2oUHSe4FNqcSmfUF9+2Q\n",
       "MP0mU7Cku8W5BS+RatXgv20IaomlPGwFCGoMuy0XvgYtkxi/G3/5W7mMTVNQOSiNGMzmwgGUpqPT\n",
       "a9JBI0DAHJ8nnf8ipR1u4c1RlJgtvzygfhIxZT2viCImKI1GwJZkBKCV3i4m+2AuBanAGpZchLxu\n",
       "F2/jYb9f2A8NohA5I8kdfhDhf6AtelMYPjEIejkh02Fz6tf08H9DpQeHwAv0B1q//pXyqNIMkewv\n",
       "v280n51pgLIG3tG3pXAuChAnZ/GRD6onz7ccezwfL2iAmrc0xyQ9Ufn6dbJrpfrfDAwaB5Paplpj\n",
       "yW6izQCLBtUra6NuXQiWIeYgsYeTZFDBikxjFdACcY/D5KbPRvmbsaRsB9GIrrbTK0h+fQAAAORB\n",
       "nhhFESwU/wACOYUjJ3ZnTAXo6loLIioYCaZF0TSkpOIvOWlZwuWRUaWGEU7g+HJM699n46Pei2or\n",
       "48z/3YBOBXX5wsBS+xW34Fef3X1WPYjwJAdovD6bEwMH/ZgZYS9Lq2fajfDYxzcoIPD8DaNBtnkz\n",
       "Ow4lOM24xskMFVutmn57gTahreHGVAIMZ1whcNmAfwhln4FkZ25uqDp1w5ZdDa9fhY7LQjd2mjGL\n",
       "iUpw36WYarVS9hk/i3odS3pIfYnUoWjls5caqbqYYXmup3f6oKgydT/6ezS9akeukAKbWc62Ih0A\n",
       "AAD4AZ43dEEvAAYYkvE61X9hrZxADjOOR/JB8ftPFITBy/4RL+gf/5Z5azpEarK6xAw1fPfehvF7\n",
       "SYPVa2Nxs6g0NaVlGSZ+oUBuLCD7HLPc8arBWPKIuKxWP0LVPZyepAOYNbJzT9ujxJ8zCdmxSQfy\n",
       "klfwtp2yWJQQ28g/F4JS+I2al/+iP0yEt/JV7ieUXTjZy8+AHi3GsBckfdwnTZXwlqBNfsmZzg7s\n",
       "WW7wG6awyv3FkuoDGKRd0wibVc/tyqsT+JZoEw440r4eliQb5uyus9LFMQpILYzQ1NDMCe4vmuVN\n",
       "eUtHbNXFlS7IojLohKwmOHwVdXfAD84AAADeAZ45akEvAAYZzLfhH+6pRGvgGf4Pl1oALlhHqXgS\n",
       "3H9y3TvmPMcQUGe5GaWT1IQPuda65erjjMrWGVjx9ONeyn3x0ynVDGLqJ5KoUTX77CO/cZrz8Al+\n",
       "QtcGhKipUO9tEO/j/D6DHy4Fufhz8bHshC2h1UDsaccNop6JiI/m2EHx2SQ9cQ1gJK22mA2UNwmc\n",
       "dgD1OsF4wLsY+xwfoQ4FSGW4X6bLArFgeh0x1tbh2juAXwUeef2QLt/dRGi87ku4NBdE2xjXjQB3\n",
       "GpgjSEKsgCY3JqRvERKyHYx9sKtNAAAA6kGaO0moQWyZTAgt//7WpVABlv2T4l+MpST3TypNOT8v\n",
       "sZSTvYAKOhv87QUCnllaDzfnrjjXzYIsIMWky8yYcw1pSCfYVcf3VuhnNUdAxdhyl/yP0b0Gn4mW\n",
       "iN9xqeMIURxy9iO9d1N3Fu9n+xgKovMeuEPWXJ/bXSW0CdlAQOrDtfcI8BonB4La/ZjbXbhesnai\n",
       "g0nMcx9StCcRBw0FsG41krIr9NLPUr3Au5yi3fvyX5YrUUvAeDarcUHpHvKi/lR57yztUwIqZkVV\n",
       "qJETd5y5c4TFN4ww2i8MdqX/QD//HCkjImhxDhtP4AAAAPJBml5J4QpSZTAgt//+1qVQAAtwgC5P\n",
       "Z7GV/+GdkwAF7stGDUWqZQPOY+Ee65g94d+wslHGZPzMfB9NE/P2ITwLwV3ohvVbTlnDH+vUU5/d\n",
       "dHvp7XhsozXuE50Lv302jbqRcn4Gxg5I+k+mezefvuppaK+v3z1r0MmUEJWH1pXZucMhDqiZwY+t\n",
       "zMMKSq33xbN7AFjpm9UQTXQzX60FxOBSsFYNL1NMhzLtNWMSvVitSsaIGBSQf4xqlIMnNgcygOeI\n",
       "c60K19RxZEFF8g/6N5d86CgeO6C/tfeh88PnEEK1vPJKoHw/nThKL7b+smHpog//GQAAAN1BnnxF\n",
       "NEwT/wADnQJ/hBSkgBbIVIM7yhNbUOmqV5lwRRASFmvLJHFjtv2/iP1untOSXBj+3uhkjwUbh8KX\n",
       "1Qxi6yJlpn8YzNCSVBZUvNvvxwPmFXJjSoSPbteuxkajpwFSJ1U4OufbCgTz+WnOUOhLzA/LxHVH\n",
       "gFC77+bpNc2qs8xdl8BflXWmV183FaBCPqEltu5JmucdbNxINNHmGBz282eSU0Ya5JXYE+Zh/qB6\n",
       "/DJ+M1P0GaTo3Tn2RaM8UqEQ3op0hnkzyYLjineMqyP368Kt2jGr96DgZFJqsQAAAMsBnp1qQS8A\n",
       "BYcQOoJ1+Kc16H8JIoBRZRm8wO0acoDsR13pJ5z4bl/7z4YuQ1x1mu5iKImkw/ttSgvMYj/einOf\n",
       "1DtKfQxgpVv+Wy8VuFNAQLwRrDVT1jG+PknRnHnvp2OLLkLIBRzKHtVXTEUrnEB9vilzKToCkQo2\n",
       "iEX1WWNi5+p06vo0B7hVMHNi9ESphTwLz8THTBCqdg5P3nbufxxsNAftWxKXHvU03m6XdJoJz+38\n",
       "jnHTUivHrENTE5tQtbYMOFcFDPl7SObKgAAAAYtBmoFJqEFomUwILf/+1qVQAA0G+P/DQ2KABobH\n",
       "guH+bhSxQ5BMUXQnqbNZ4xpt2qKvW50BQHNidRAIMqMA0nX6OdS7AkmdUMUwSD1Ii3AFmityeuGJ\n",
       "SYmveGb0ggggS9z3FmhNxWeKBMIGyy7f2MKv6h0Cqx4pb7rUKgG3ox1nBHvKpGlBt2F8wsmOZW1Z\n",
       "Rekwe2UOUSxlBv2wi4Cz9eRCEtbXNL8L1XT5XAi7TXWKq6Z4vdnehcEhbyHDiL9FaGiWo1V7bwxp\n",
       "rzaC59R4mNszVPVOFAnQsa5zA/KQgbHcLUCWGcwk7VnYhubYj59Ss+np1HyjKVSMwz6SlomF4P7B\n",
       "VO8B6T3S/+LrBzuJjuUS9EiKf2hvXf3Os7yzVmPbHkMpz28DOQy/Hf2eFcGxKQO30iN6sdXj8XIc\n",
       "gqppDtjJ6ddzIbW1x7T/0EjvLCTgPbLijK+Epk7yUZFiVNPGsRyZzaHU5ahfE5/7ngKrNrvDtkPQ\n",
       "r08AOVnow7+sXsrfroThxZbDpnlqu0LaxAAAAPJBnr9FESwT/wADNjK/sNaRIAOMcdiTfj5A+5kp\n",
       "LCDGQ2HUgf/5axWt8ClZBlmG/ImxvCD98SZkCxm7RwNDWjMDEeJXgl++hB9lMxoj5VgrHlEXGSQO\n",
       "6Fqns5PUgQSCdkZqamyvhBq9AOLrYFVW5G+HR2Zs00lE61H+DMPiNnEDcub9MhLf01e32uHq42mR\n",
       "VDL7W8P8yYk7uE6a+l0tQJr9kzPdLdiy3eHK9QaV+4spTgYxSLumESarn83bOOfxM13CksrjLDBo\n",
       "wLZT7NWkA/kRfIe0ojT1sLhdrroTzFdiJ2WQIM/EM7sy2/Ccof5j/QBewQAAAMoBnsBqQS8ABNQw\n",
       "dBAiCksgh1g6LlMY4b9Mc6giuOYIZ8/cM+xuAFyw3sbCwE8Fy7fgV5eFPiY9iPAkBpQsPpsTAwf9\n",
       "mBg48rwOMv9G2rGH0oP2l4yMpp2ArxNLJyQcbcPtvqYWhOySpnembUcLabxP3sSbBvL1O1te9eup\n",
       "LDIztzdT+/R4KVQghCirAgdCIVXmtgH5pIy3CBw1WqmALn/FvQ6l3T/GcuRX8QJQ37nhyAmKGOYZ\n",
       "erfgfl1V5YVW79jRQj4AoupHJptwAAAA3EGaxUmoQWyZTAgt//7WpVAADQfsnluA4yEVlRk3wcAo\n",
       "L0i+iPHnM3U/Hmf8Hkg0EomACXMYc336nT7yEPn8R/vRTnuUljkrviQ6uQQyy8HfUDKx6Z4sSNCj\n",
       "A9sWtuqLs8bKSern4q2x5QVxOryQxNxIAA1fsG8CfW4ud1AxBXdOqiBhofo/V9JtUioa86iGqRL7\n",
       "lgPWpNVQUezgA2mz9eWbBJ7sdaHoN3pBpl6exEZJCYs776BkcSQ0RkWSDvNEb+hGpzGs5UF0Yp40\n",
       "ak9X+dDqT9hgIFPRkFPJHQEAAABxQZ7jRRUsFP8AAQy4/aNUuXvY/mYIF5cxNgk5/4vtT6tEf+fW\n",
       "hyVgRFg++9vFTuLa9AAGtMTACChEBqU+X6AZZk82+hhfFPX7u86PUUuhGMjr5UUjv/A5ZV8CdMD0\n",
       "Ge99+AXGQniIe2K4XD9Gc37BzAQAAADZAZ8CdEEvAAYNNX9hEpmgAiVxQwnfSzhAcOBreIRQo14O\n",
       "CrJKCLPmV8i2ybwk3TJSfm8XKCDuRm6zUw0WZfrT4p6noCHDHTlPOMXRF7BgYJ/Kkg0MYDPFuHm4\n",
       "hBBVMj2QmBsI0ZTof74ZeYXPrVO5gxwwa6TjVxYQ4c6GNuM6BG5i5MPHrMKUIsxJ9mVFdHr52Be1\n",
       "N2pP7Syj5SdDdRtqY75R3jWrxWDlMqVMIHBOvngAqUt7FK/5caC8CBV/oSK8DlvnlnNvQUxepNA3\n",
       "bSSQt5OovL0ajcydAwAAANYBnwRqQS8ABXurfwgqeQA4ziiK8KyGjLdqDfZMsH95Cgv1ZHL7NWwj\n",
       "lCLRA4m7awwQnR6TKUJSobspfVDGp/HbURGYOraGwIYnGK6mj7EnJzy96whfbpmt0FqPbZmTQTkp\n",
       "pYLVAFAnnsrMmx7rcnu4niOohSRekZ8fs9MamDc+sj8BfiMPEF17mTEWlGSJLbdtQ65nbGbiQaZ/\n",
       "x5rnt5s8km7Om9ndfI+QqIEGFgsr8Zpqx9fDdl9fEg5T2u4NyGseCtxRE4DmaqE3rVByu54sb1HK\n",
       "ENuBAAAA40GbBkmoQWyZTAgt//7WpVAACl8l/8NDYoAHXzU0mUWqZQPOY+Ee65g94d+wslHGZPzM\n",
       "fB9NE/P2ITwLwV3ohvoTg5HN5BJ3k8/ddHvp7XhsozXuE50Lv302jbqRcn4Gxg5I+k+mezefvupp\n",
       "aK+v3z1r0MmUEJWH1pXZucMhDqiZwZCMvByzTgdy4S1M3qiCa6Ga/WguJwKVgrBpepptVJCj1Gni\n",
       "9WK1KxogYFJB/jGqUgyc2BzKA54hzrQrX1HFkQUXyD/o3l3zoKB47oL+196Hzw+cQSY4VRsn1qMd\n",
       "ttXWCDvRAAACIEGbKUnhClJlMCC3//7WpVABb+S/+G+kUAOi6l8IQlvfJBHE66c5xmz+E875A5Bc\n",
       "e4O+a35mQzY6/bAzniMrT398RWY8nzIYXfgalADCS17O5hJrESuL48YfZtqjelkoRkKH3su7rbYY\n",
       "WxJxD70iA3RRHSFbH/AA1R/+jt4I0vv7XSktRPEbVxtxs/xgrurR/hlv0THJrGh4v3GbjbWYZCLX\n",
       "kTIRTcBxhzko/78ETuDgcBBBJz52BN20kY+IUjkS+u0hpqIsxhXMYS10jZKs7DU/+hZj9kxAvFln\n",
       "/ul3DGbYX+Hxx9ljuAhQaFL50g4ONHHeVLhQINBjcXJYhug/0r6Gp8g7D0MKVEaiNifjlOVf8rd3\n",
       "MAjZ8wpKiKgu7IY1Lse4JbS7UL3pIPfF9EPVyBZJkwfCEeEFNPJsOLSgnIVXsWGqne82XhXgSeN4\n",
       "ddwxsHm47IVb22I5fSFwMbqu99fUuMIEb8PNoXeJjpOgZDSCPVkyRN5NwfAvrYXUE5zqH3Vm4aCr\n",
       "vWb3OuwjnfKCnWpdwKrdqhoMeEqIX9292LBEds0Qq4zz7HQW3KMjaEAaM2KFvOe5MbuVnO6Lcthl\n",
       "OcrDU3qZVfZKIVxhmzNIwidqfu3l7XY3U8JasLbNkDRwnrhMr5rdgFp2T6vKSJkJ6b87yxgnQP0x\n",
       "8zYRPIa2gVBVEmIedMhfUM7IH3R3F/zgg8qrhoxq3aEwxvrU4g2cF4EAAADxQZ9HRTRME/8AA6RW\n",
       "EpozMl/Ya3XgAcY47Em/HyB9zJSWEGMhsOpA//y1itb4FKyDLMN+RNjeEH74kymNzzm6g4fgQa0s\n",
       "pqDxK8Ev30IPspmNEfKsFY8oi4ySB3QtU9nJ6kCCQTsjNTU2V8INXoBxdbAqq3I3w6OzNmmkorsP\n",
       "F4JS+I2cQNy5v0yEt/TV7fa4erjaZFUMvtbw/zJiTu4Tpr6XS1Amv2TM90t2LLd4cr1BpX7iylOB\n",
       "jFIu6YRJqufzds45/EzXcKSyuMsMGjAtlPs1aQD+RF8h7SiNPWwuF2jOhodIfZfZksjb9i/hjoRy\n",
       "VgAAAMsBn2hqQS8ABYcQOofob8h+DKU1emWs+nZWFZbjcSkKH256rw3L/6WQAXLDexsLATwXLt+B\n",
       "Xl4U+Jj2I8CQGlCw+mxMDB/2YGDjyvA4y/0basYfSg/aXjIymnYCvE0snJBxtw+2+phaE+g9VWs5\n",
       "tRwtpvE/exJsG8vU7W17166ksMjO3N1P79HgpVCCEKKsCB0IhVea2AfmkjLcIHDVaqYAuf8W9DqX\n",
       "dP8Zy5FfxAlDfueHICYoY5hl6t+B+XVXlhVbv2NFCPgCi6RF3AAAAIZBm2xJqEFomUwILf/+1qVQ\n",
       "AA0H7J5bfhfUC/58AFMovwJVkzGY6xiOpx/tQZ4kz4UeEyQVIKPBSma3VY3sLNV/IDABiog/T/7O\n",
       "rsBXglX1aLHC+eE3aoiQkYu14COxJtFayyDEo1YeAru13u+GMEIFQG5ffnKiMgBoXwv3DIdPsebL\n",
       "aCnLaQAAAN9Bn4pFESwT/wAD9iL/sIkmKADdQqPCX9LOEP49KvD1yKN9BwVZJQRaAyxp0bAcYn0w\n",
       "MgvLi5P6dyM3SeMh8xh6PMo+tTgQ7r3Y/YeRdEXsrB9elMSDQxgM8XY2bxCe7AinskYeUMn4jixP\n",
       "nauj6Xya2jmjhg10nGsK4yiDtiaaYsxQzFyYePWYVEaZiT7MqK7URTsC9qbvbf2llHzGPW6jbUyf\n",
       "RhNhuvFYOUyTCfuFZc+eXauS4w8cAPOUAua7D1fn3tjJzYx2B34ri9ZXPAa+lRCIdKr4eqs4JKiU\n",
       "ypTAAAAAvAGfq2pBLwAGGUynCzXuIcSLvvrkcxLJWJGNfz9Wx3lvp8AGyw5IeW23u6U+bOtyrL3w\n",
       "JGhR4rX5pR9edQE+jM9veVvVe66TIyj9159WlgESeItnYQZ7loez3H/hLKH5hhcKaP5Zj6CB8nrb\n",
       "fvjTWFX9kbafl814OL20JHQ2XsRZ80/maLnW/+5HNoa94tmxFm+wj6oapAhI3Pxigsjiv8nMxV8J\n",
       "q7XFVPIV5o8efoqkdubNcfPt8D+zAOs+AAAA4kGbrkmoQWyZTBRMFv/+1qVQAAt/72a5VU2V/4aG\n",
       "NAAXuy0YNRaplA85j4R7rmD3h37CyUcZk/Mx8H00T8/YhPAvBXeiG8yJHI5vIHSinP7ro99Pa8Nl\n",
       "Ga9wnOhd++m0bdSLk/A2MHJH0n0z2bz991NLRX1++etehkyghKw+tK7NzhkIdUTODH1idJUgqpXe\n",
       "2dAoWr9TN6ogmuhmv1oLicClYKwaXqaYVFtIpOmIpC61KxogYFJB/jGqUgyc2BzKA54hzrQrX1HF\n",
       "kQUXyD/o3l3zoKB47oL+196Hzw+cQQ2qvCEAAADIAZ/NakEvAAL0BhwgXcU2WZHcE1GXVolgBlko\n",
       "DsR13skknz9wzuxhi5DXHWa7mIoiaTD+21KC8xiP96Kc5/UO0p9DGClW/5bLxW4U0BAvBGsNVPWM\n",
       "b4+SdGcee+nY4wOxUgFHMoblVdMRSucQH2+KXMpOgKRCjaIRfVZY2Ln6nTq+jQHuFUwc2L0RKmFP\n",
       "AvPxMdMEKp2Dk/edu5/HGw0B+1bEpce9TTebpd0mgnP7fyOcdNSK8esQ1MTm1C1tgw4VwUM+XtJS\n",
       "cmEAAAH9QZvRSeEKUmUwILf//talUAFv/ezXKne3grJ4pZevU/8NBxoANDY8Fw/zcKWKHIJii6E9\n",
       "TZrPGNNu1RV63OgKA5sTqIBBlRgGk6/RzqI0pJnVDDPnzuBA/m12ZTeO7RiUmJr3hm9IIIIEvc9x\n",
       "ZoTcVnigTCBssu39jCr+odAqseKW+61CoBt55tVREzIMmWkN/l1oF0EZzCTtWgzhNm7Ur0ftas7r\n",
       "zSUyB+zoYwSmRrMleSeo2TWfi7WzzBpZEYW8THcgIkCXlX5uT2u3i/fMFmY9ssC75eVmQkt6v9wj\n",
       "SMmoyF9jrW3qQmC7sE2NM07mVOsOMeFBKd75rVPZ/vw747d5YTy1UDnMr1+DiXIm/lsxF9UI35f+\n",
       "RAPv84RUo55JOx4geUh/TWN94W4DqUDTfvst5qMtdXxr8DMmdWs5+7rLz0sImsqectRgsjWKpsdD\n",
       "W221abdM8huEm7byl0gq/chxNkNF5Zo/5l/b5h80EtZVdLeDZo6jJbNSYG+5w55YHYnljjRS3sjB\n",
       "a93UcqY0YzQaA7L1IH+6zPYf26HYFtoy9pVtEng0ipa1tf5TeTiYRte818/DZ1KWI8WmDidOtkC2\n",
       "gV1cYMcqvwbQE1Vdh9Xl04Yp0DKYoZO8cY92CH6DaT1tu7O9vc6U9lE1UGClsRQrFyJooJMmZPM/\n",
       "2o8AAAD5QZ/vRTRME/8AA6RWEpozMl/Ya3XgAcY47Em/HyB9zJSWEGMhsOpA//y1itb4FKyDLMN+\n",
       "RNjeEH74kyllm7s2NMHV/WMIMLR1xpOFAbiwg+ymY0R8qwVjyiLjJIHdC1T2cnqQIJBOyM1NTZXw\n",
       "g1egHF1sCqrcjfDo7M2aaSiaawmWL+XmyaBuXN+mQlv6avb7XD1cbTIqhl9reH+ZMSd3CdNfS6Wo\n",
       "E1+yZnuluxZbvDleoNK/cWUpwMYpF3TCJNVz+btnHP4ma7hSWVxlhg0YFsp9mrSAfyIvkPaURp62\n",
       "Fwu0Z0OvHP1lXEkCKzejk8QlCBpJ9UPxZD8vAAAAygGeEGpBLwAFhxA6h+hvyH4P6AUKSs+nTIzi\n",
       "aN4Pevn7hn0hgBKshcZ4WAnguXb8CvLwp8THsR4EgNKFh9NiYGD/swMHHleBxl/o21Yw+lB+0vGR\n",
       "lNOwFeJpZOSDjbh9t9TC0CBx6qtZzajhbTeJ+9iTYN5ep2tr3r11JYZGdubqf36PBSqEEIUVYEDo\n",
       "RCq81sA/NJGW4QOGq1UwBc/4t6HUu6f4zlyK/iBKG/c8OQExQxzDL1b8D8uqvLCq3fsaKEfAFF1I\n",
       "sies29AAAADlQZoUSahBaJlMCC3//talUAANB+yeW34X1MgfdknwlKOACpob/O0FAp5ZWg835644\n",
       "182CLCDFpMvMmHMNaUgn2FXH91boZzVHQMaGdYP+oY2Y39sTLRG+6DXGEKM45exHeu6m7i3ez/Yw\n",
       "FUXmPWdiaoKmr14W0CdlAQOrDxxJVnNCcIaJBd2t4La/ZjbXbhesnaig0nMcx9StCcRBw0EkG1qz\n",
       "hs1+mlnqV7gXc5Rbv35L8K4mXYZta1W4oPSPeVF/Kjz3lnapgRUuaSTFwM/6DH5Z3+TfYcw2jRrq\n",
       "uByQI+rXx5iTUQAAAOFBnjJFESwT/wAD9iL/sIkmKADdQqPCX9LOEP49KvD1yKN9BwVZJQRaAyxp\n",
       "0bAcYn0wMgvLi5P6dyM3SeMh8xh6PMo+tTgQ7r3Y/YeRdEXsrB9elMSDQxgM8XY2bxCe7AinskYe\n",
       "UMn4jixPnauj6Xya2jmjhg10nGsK4yiDtiaaYsxQzFyYePWYVEaZiT7MqK7URTsC9qbvbf2llHzG\n",
       "PW6jbUyfRhNhuvFYOUyTCfuFZc+eXauS4w8cAPOUAua7D1fn3tjJzYx2B34ri9ZXPAa+lRCIdKr4\n",
       "eqs6vG7Vs+Fz82AAAADCAZ5TakEvAAYZTKcLNe4hxIu++uRzEslX2UH1T2K0TOR3lvycAEOrckPL\n",
       "bb3dKfNnW5Vl74EjQo8Vr80o+vOoCfRme3vK3qvddJkZR+68+rSwCJPEWzsIM9y0PZ7j/wllD8ww\n",
       "uFNH8sx9BA+T1tv3xprCr+yNtPy+a8HF7aEjobL2IgdWfzNFzrf/cjm0Ne8WzYizfYR9UNUgQkbn\n",
       "4xQWRxX+TmYq+E1driqnkK80ePP0VSO3NmuPn2+B/ZgNtxhoekAAAAE8QZpWSahBbJlMFEwW//7W\n",
       "pVAAC3/vZrlVTZX/hoY0AF6oJROI7xzBz7y1eBtt48OYcYLRFuYQyb0KUdVjOq/52VCNIUjiA1b1\n",
       "tlMQDcFrskRCmwsrXJM7dw8vApv5Qgk99YcvcHmDoFd9siMGDCfzYoF5fpFaFiY8unyAyFMYWmOs\n",
       "XHhTfhLBNvKgtO7BQJSQtUgw1Aa4pgGHni9JF8y6Otpixyn5apqNWLFeSdZQSjm140mnE4qKsW9X\n",
       "qN7K4YKrWfIVAOU9RsKalVIvicAa4mAhN1AX2EE/HkpUw+aa80HqX/RzplmNgYDiH+/fyQYU+cGf\n",
       "IUpXVICXsBMSj589Stn/ochbtE+AhuluiCt0AFHIrn8VDWi6I8GC/UR3kJ8STAvGtdRELOrVBlSd\n",
       "za0uDneT5V7Kj0312Z3tMQAAAN0BnnVqQS8ABXurfwgqeQA4ziiK8KyGjLdqDfZMsH95Cgv1ZHL7\n",
       "NWwjlCLRA4m7awwQnR6S9mrqA9s0JwQWIv47aiIzB1bQ2BDE4xXU0fYk5OeXvWEL7dM1ugtR7bMy\n",
       "aCclNLBaoAoE89lZk2Pdbk93E8R1EKSL0jPj9npjUwbn1kfgL8Rh4guvcyYi05ReX9btqHXM7Yzc\n",
       "SDTP+PNc9vNnkk3Z03s7r5HyFRAgwsFlfjNNWPr4bsvr4kHKe13BuQ1jwVuKInAczVQNRDXg/Ern\n",
       "G8dJVd/erLiAIBiHTAAAAWJBmnlJ4QpSZTAgt//+1qVQAA0G+P/DQ2KABobHguH+bhSxQ5BMUXQn\n",
       "qbNZ4xpt2qKvW50BQHNidRAIMqMA0nX6OdS7AkmdUMUwSD1Ii3AFmityeuGJSYmveGb0ggggS9z3\n",
       "FmhNxWeKBMIGyy7f2MKv6h0Cqx4pb7rUKgG3orMBn0M7zcbFUdnk5a//xwDSphzVQCVw1XqLZ5ZX\n",
       "JjZB9sLYePu3A4Mm6A6K+qbDBXfAgYuwvYrD1hxEhrbUFPPSckwPiAXL6pdTOsMwLQZYb5aDOE2b\n",
       "tSvR+LG+Khnyi1A5WxcWLCAT+yPoPKDNMOPs8waWRGFvEx3ICJAl5V+bk9rt4v3zBZmPbJmTP7yX\n",
       "N7mNeqbY5wbXQd/I/0Cb8crsCmbsCD6SDzDWL7TYTWDWrUAWMHgUPE0rnsTJoszC8f0JTpqhdMjF\n",
       "DFdBCkb7IoQONx5V8VYy0EmJzYdo/9awP5f4UckAAADxQZ6XRTRME/8AAzYyv7DWkSADjHHYk34+\n",
       "QPuZKSwgxkNh1IH/+WsVrfApWQZZhvyJsbwg/fEmY8cGqNU74wgpBJB4leCX76EH2UzGiPlWCseU\n",
       "RcZJA7oWqezk9SBBIJ2RmpqbK+EGr0A4utgVVbkb4dHZmzTSUUlWEyxfy82TQNy5v0yEt/TV7fa4\n",
       "erjaZFUMvtbw/zJiTu4Tpr6XS1Amv2TM90t2LLd4cr1BpX7iylOBjFIu6YRJqufzds45/EzXcKSy\n",
       "uMsMGjAtlPs1aQD+RF8h7SiNPWwuF2uuhQLevkBGFEJJM34G61747kDTPax6wQAAAMsBnrhqQS8A\n",
       "BNQwdBAiCksgh1g6LlMYMu+vX3SC4qQS58Ny/+SwALZhvY2FgJ4Ll2/Ary8KfEx7EeBIDShYfTYm\n",
       "Bg/7MDBx5XgcZf6NtWMPpQftLxkZTTsBXiaWTkg424fbfUwtCdklTO9M2o4W03ifvYk2DeXqdra9\n",
       "69dSWGRnbm6n9+jwUqhBCFFWBA6EQqvNbAPzSRluEDhqtVMAXP+Leh1Lun+M5civ4gShv3PDkBMU\n",
       "Mcwy9W/A/Lqrywqt37GihHwBRdR7/lITMAAAAN1BmrxJqEFomUwILf/+1qVQAA0H7J5bfhfUyB92\n",
       "SfCUo4AKmhv87QUCnllaDzfnrjjXzYIsIMWky8yYcw1pSCfYVcf3VuhnNUdAxoZ1g/6hjZjf2xMt\n",
       "Eb7oNcYQozjl7Ed67qbuLd7P9jAVReY9Z2JqgqavXhbQJ2UBA6sPHElWc0JwhokF3a3gtr9mNtdu\n",
       "F6ydqKDScxzH1K0JxEHDQSQbWrOGzX6aWepXuBdzlFu/fkvwriZdhm1rVbig9I95UX8qPPeWdqmB\n",
       "FS5pJMXAz/oMflnf5N9hzDaNGuCHgQAAAOBBntpFESwT/wAD9iL/sIkmKADdQqPCX9LOEP49KvD1\n",
       "yKN9BwVZJQRaAyxp0bAcYn0wMgvLi5P6dyM3SeMh8xh6PMo+tTgQ7r3Y/YeRdEXsrB9elMSDQxgM\n",
       "8XY2bxCe7AinskYeUMn4jixPnauj6Xya2jmjhg10nGsK4yiDtiaaYsxQzFyYePWYVEaZiT7MqK7U\n",
       "RTsC9qbvbf2llHzGPW6jbUyfRhNhuvFYOUyTCfuFZc+eXauS4w8cAPOUAua7D1fn3tjJzYx2B34r\n",
       "i9ZXPAa+lRCIdKr4eqs6vG9ahfKlYAAAAL0BnvtqQS8ABhlMpws17iHEi7765HMSyVfZIMHr5M5H\n",
       "eW+84AQityQ8ttvd0p82dblWXvgSNCjxWvzSj686gJ9GZ7e8req910mRlH7rz6tLAIk8RbOwgz3L\n",
       "Q9nuP/CWUPzDC4U0fyzH0ED5PW2/fGmsKv7I20/L5rwcXtoSOhsvYiQ1Z/M0XOt/9yObQ17xbNiL\n",
       "N9hH1Q1SBCRufjFBZHFf5OZir4TV2uKqeQrzR48/RVI7c2a4+fb4H9mAZaMAAAIhQZrgSahBbJlM\n",
       "CCv//talUAFC5F/+Wu30AhB3O9Z52k9YuW1nlftfUMwOsg/vyZ00Kydarzg30HRNnHLjlGmTOoM5\n",
       "g8pXl39rrCCrh1P9HSuKg8F5Ro0BlGvbIc6mbC1odngAtR6spBTuKi/D/tJTdWF3SVx8XTEz6JDv\n",
       "U5lYRG0nAHPShUjGad8fN1nxfUBjp7LroHgvhWzeNR8FrP6kc74z9Ny4atBXfMEYrkgA+QC0PbHm\n",
       "oD7SiZZ2aSE5gb+ZfMc7+xL+8zMRIzUYjcedpkvKtH1ZWXdPMGEsNXaWmJw1hLohHiduoVhCB3M2\n",
       "ijp2jgnNVyvaS+jeBt+LffSyZR1SowWoWxXbMHFoOFqsPZY6wuzeaQQ+FVRV5mxFpH681IRePs9m\n",
       "OdACaegfunHlLrR7cM+h2u9k2tzr16sQYBIpIspU1pW27/cggC8SyXgpj88qk1FYUCGv3mkjHjHN\n",
       "lUA4utGJQK5St0APNBGgW4lCbBYXfU2wiqtBd4SUINpBxeqmDBb75bq2BGnaDzFfu9TWfAsTlNlv\n",
       "wJxdL/dKA2w7u1iZMWXCnIsIF6QRnXnVwAAiXxZQp/oQy2ibNeMbvmokE4gwbAKNeAsyIRnXg49J\n",
       "BxxsG8UyMP+HgiknCnODv59uyPyc6obpwXuFKspC+zuMjv18KBlhcPyf0AN+TygRsitgRDMmIS6M\n",
       "6UY1+NZBq96WVhdPaEI5org55hrVUy8AAADYQZ8eRRUsFP8AAbjdH24yenwPcrcL7WHuM1V/4lx3\n",
       "FB7PySqkKKdnkC/I2UMmWZ/P/gCf/w0A9M4NKH+1qKUiaTD/54IEZjEf70U53qiT6H6GM2rkEMsv\n",
       "B31AxcuMqptMa+jZ2LGPPgojNEXGX8WlLbHlBXHUpd3kbEgADV+tTN6bvbooOn8I95W0arrb0X6v\n",
       "pNp8JKvJ9ERHmJl/g9alqV4hratWBGHiC6DqhD0gnoN1qxplwM+zAe8Uc3RtCbnWGxkl8DApY/0B\n",
       "fUgcnmGsYy/oNgPc80ScAAAA2AGfPXRBLwAFe6t/CCp5ADjOKIrwrIaMt2oN9kywf3kKC/Vkcvs1\n",
       "bCOUItEDibtrDBCdHpMntY2vuyl9UMan8dtREZg6tobAhicYrqaPsScnPL3rCF9uma3QWo9tmZNB\n",
       "OSmlgtUAUCeeysybHutye7ieI6iFJF6Rnx+z0xqYNz6yPwF+Iw8QXXuZMRaVhQktt21DrmdsZuJB\n",
       "pn/Hmue3mzySbs6b2d18j5CogQYWCyvxmmrH18N2X18SDlPa7g3Iax4K3FETgOZqoGiQhuWhRrpj\n",
       "AGWwzYCiQAAAAI8Bnz9qQS8ABNQu2gBsaRBFuiRzFGtvLYuYnzSe6jdaqECI60SR+Bgq/zI+v+iD\n",
       "I+v07s7neLZCXBOl2za0lm8b7gckSzca1IRFWR6OxdS20VzT1P7hNGjksrV3tyDJ5kLRe+W3pzmW\n",
       "LwRdJU/q0scNjm1bluPsBUt5UrTd4Zvw0QSg7hBvf+u6vBsYljLxIQAAAPdBmyFJqEFsmUwILf/+\n",
       "1qVQAKCZitABbMcSVS7p3nqimZvvYhyRZv5OFZz7/wzxKvEruHROTkw0H5XsOijUB8aea6OqfCr1\n",
       "udAUBzYnUQCDKjANJ1+jnUh9pJnVDBjjEpN1Sj9SPOo+ovnkApDn1tte+cH4z9Sk0x0ZEW9hWQJs\n",
       "vQMfpv6h0Cqx4pb7rUKgG3lz3kjScoBm1ONPiXKQrnTHtLJhcltas7rzSUyB+zoYwSmRrMqcOO/q\n",
       "u7TXDRnkEmrJFXZRpEpsCXeKhyHJduN/OkjzNJR9qd75eVmQkt6v9wjSMmoyF9jrW3qSXJgKNgZ0\n",
       "yN4CrTDfAAAA30GbREnhClJlMCCv//7WpVAAnP26FjJHgnLptN0Y/y+xlJaggAl65unFIEhoa44P\n",
       "M1OnK68mf9u+8AgLzJhs/YWUJ9hVx/bW6Gc0HEGNDN+6xxf1WNt72MIjZAvDjCFFzLKKS2u6m7iz\n",
       "LaE4wFUXmXodcb4KlvkhOuCdesyKLDvJ2lN9WG80lerk+g3VC2X6GJofcAZSxjScxzH1KaIyJ/Dj\n",
       "vhWvFYqV7JkgWPEDce/exvpe5fiodSBOgLY0V+TSF7+28nrO5As7VL2LAC17iOLNLMrxN9H2W0GM\n",
       "NoweTpMAAADgQZ9iRTRME/8AA/Yi/7CJJigA3UKjwl/SzhD+PSrw9cijfQcFWSUEWgMsadGwHGJ9\n",
       "MDILy4uT+ncjN0njIfMYejzKPrU4EO692P2HkXRF7KwfXpTEg0MYDPF2Nm8QnuwIp7JGHlDJ+I4s\n",
       "T52ro+l8mto5o4YNdJxrCuMog7YmmmLMUMxcmHj1mFRGmYk+zKiu1EU7Avam7239pZR8xj1uo21M\n",
       "n0YTYbrxWDlMkwn7hWXPnl2rkuMPHADzlALmuw9X597Yyc2Mdgd+K4vVOTzZ1VVTyGjgW15JFTxO\n",
       "bgHylZQAAAC/AZ+DakEvAAYZTKcLNe4hyXg2Z0lwKFACVms4XxqtEzkd5b8nABDq3JDy2293SnzZ\n",
       "1uVZe+BI0KPFa/NKPrzqAn0Znt7yt6r3XSZGUfuvPq0sAiTxFs7CDPctD2e4/8JZQ/MMLhTR/LMf\n",
       "QQPk9bb98aawq/sjbT8vmvBxe2hI6Gy9iIHVn8zRc63/3I5tDXvFs2Is32EfVDVIEJG5+MUFkcV/\n",
       "k5mKvhNXa4qp5CvNHjz9FUjtzZrj59vgf2YBc5UAAADeQZuHSahBaJlMCCX//rUqgABZvokNuCmw\n",
       "f4Pe6wAcNbkg0HDmvZAUZvfoJWCe9x6Nko4zJI5itQrQWoQxBbyiUL9hSjK7Ou65O8ozny9LT308\n",
       "AJcC6qXCc6F33zyn7FouT8DW2pWK1OTKQzutOqaWhev989r0QLax8C5LnuYbSubpN5SgY+Al4aDB\n",
       "fTV3U3uV/qZvVEE1zw0DONK7d96C+4GHbq4DQRaL11LydUkEQiBgUul88PapCGM4OZQHO+L2kgNg\n",
       "4kQZc2fgdbuvviBuuONoVSW4kvPIU+U80EFpAAAA20GfpUURLBP/AAOdAn+EFKSAFshUgzvKE1tQ\n",
       "6apXmXBFEBIWa8skcWO2/b+I/W6e05JcGP7e6F5tWmoE5oTggskCyJlpn8YzNCSVBZUvNvvxwPmF\n",
       "XJjSoSPbteuxkajpwFSJ1U4OufbCgTz+WnOUOhLzA/LxHVHgFC77+bpNc2qs8xdl8BflXWmV183F\n",
       "aBCqF5f1u5JmucdbNxINNHmGBz282eSU0Ya5JXYE+Zh/qB6/DJ+M1P0GaTo3Tn2RaM8UqEQ3op0h\n",
       "nkzyYLjineYDvg+E7k0M+yBCNmOtvQAAAMsBn8ZqQS8ABYcQOoJ1+Kc16H8JIoBRZRnBaORGcoDs\n",
       "R13pJ5z4bl/7z4YuQ1x1mu5iKImkw/ttSgvMYj/einOf1DtKfQxgpVv+Wy8VuFNAQLwRrDVT1jG+\n",
       "PknRnHnvp2OLLkLIBRzKHtVXTEUrnEB9vilzKToCkQo2iEX1WWNi5+p06vo0B7hVMHNi9ESphTwL\n",
       "z8THTBCqdg5P3nbufxxsNAftWxKXHvU03m6XdJoJz+38jnHTUivHrENTE5tQtbYMOFcFDPl7SObK\n",
       "gQAABhZtb292AAAAbG12aGQAAAAAAAAAAAAAAAAAAAPoAACMoAABAAABAAAAAAAAAAAAAAAAAQAA\n",
       "AAAAAAAAAAAAAAAAAAEAAAAAAAAAAAAAAAAAAEAAAAAAAAAAAAAAAAAAAAAAAAAAAAAAAAAAAAAA\n",
       "AAACAAAFQHRyYWsAAABcdGtoZAAAAAMAAAAAAAAAAAAAAAEAAAAAAACMoAAAAAAAAAAAAAAAAAAA\n",
       "AAAAAQAAAAAAAAAAAAAAAAAAAAEAAAAAAAAAAAAAAAAAAEAAAAABsAAAASAAAAAAACRlZHRzAAAA\n",
       "HGVsc3QAAAAAAAAAAQAAjKAAAEAAAAEAAAAABLhtZGlhAAAAIG1kaGQAAAAAAAAAAAAAAAAAAEAA\n",
       "AAkAAFXEAAAAAAAtaGRscgAAAAAAAAAAdmlkZQAAAAAAAAAAAAAAAFZpZGVvSGFuZGxlcgAAAARj\n",
       "bWluZgAAABR2bWhkAAAAAQAAAAAAAAAAAAAAJGRpbmYAAAAcZHJlZgAAAAAAAAABAAAADHVybCAA\n",
       "AAABAAAEI3N0YmwAAACzc3RzZAAAAAAAAAABAAAAo2F2YzEAAAAAAAAAAQAAAAAAAAAAAAAAAAAA\n",
       "AAABsAEgAEgAAABIAAAAAAAAAAEAAAAAAAAAAAAAAAAAAAAAAAAAAAAAAAAAAAAAAAAAAAAY//8A\n",
       "AAAxYXZjQwFkABX/4QAYZ2QAFazZQbCWhAAAAwAEAAADABA8WLZYAQAGaOvjyyLAAAAAHHV1aWRr\n",
       "aEDyXyRPxbo5pRvPAyPzAAAAAAAAABhzdHRzAAAAAAAAAAEAAABIAAAgAAAAABRzdHNzAAAAAAAA\n",
       "AAEAAAABAAAB2GN0dHMAAAAAAAAAOQAAAAEAAEAAAAAAAQAAgAAAAAACAAAgAAAAAAEAAIAAAAAA\n",
       "AgAAIAAAAAABAACgAAAAAAEAAEAAAAAAAQAAAAAAAAABAAAgAAAAAAEAAEAAAAAAAQAAgAAAAAAC\n",
       "AAAgAAAAAAEAAIAAAAAAAgAAIAAAAAABAABgAAAAAAEAACAAAAAAAQAAgAAAAAACAAAgAAAAAAEA\n",
       "AKAAAAAAAQAAQAAAAAABAAAAAAAAAAEAACAAAAAAAQAAQAAAAAABAACAAAAAAAIAACAAAAAAAQAA\n",
       "gAAAAAACAAAgAAAAAAEAAKAAAAAAAQAAQAAAAAABAAAAAAAAAAEAACAAAAAAAQAAQAAAAAABAACA\n",
       "AAAAAAIAACAAAAAAAQAAgAAAAAACAAAgAAAAAAEAAGAAAAAAAQAAIAAAAAABAACAAAAAAAIAACAA\n",
       "AAAAAQAAgAAAAAACAAAgAAAAAAEAAGAAAAAAAQAAIAAAAAABAACAAAAAAAIAACAAAAAAAQAAgAAA\n",
       "AAACAAAgAAAAAAEAAKAAAAAAAQAAQAAAAAABAAAAAAAAAAEAACAAAAAAAQAAQAAAAAABAACAAAAA\n",
       "AAIAACAAAAAAAQAAgAAAAAACAAAgAAAAABxzdHNjAAAAAAAAAAEAAAABAAAASAAAAAEAAAE0c3Rz\n",
       "egAAAAAAAAAAAAAASAAAEsgAAADiAAAA3AAAAMAAAADvAAAA3QAAAMwAAAIgAAAAiwAAAPYAAADl\n",
       "AAAA8QAAAO8AAADfAAAAzgAAAboAAAEDAAAA0AAAAPQAAADAAAAA7wAAAN4AAADPAAABpAAAAOgA\n",
       "AAD8AAAA4gAAAO4AAAD2AAAA4QAAAM8AAAGPAAAA9gAAAM4AAADgAAAAdQAAAN0AAADaAAAA5wAA\n",
       "AiQAAAD1AAAAzwAAAIoAAADjAAAAwAAAAOYAAADMAAACAQAAAP0AAADOAAAA6QAAAOUAAADGAAAB\n",
       "QAAAAOEAAAFmAAAA9QAAAM8AAADhAAAA5AAAAMEAAAIlAAAA3AAAANwAAACTAAAA+wAAAOMAAADk\n",
       "AAAAwwAAAOIAAADfAAAAzwAAABRzdGNvAAAAAAAAAAEAAAAsAAAAYnVkdGEAAABabWV0YQAAAAAA\n",
       "AAAhaGRscgAAAAAAAAAAbWRpcmFwcGwAAAAAAAAAAAAAAAAtaWxzdAAAACWpdG9vAAAAHWRhdGEA\n",
       "AAABAAAAAExhdmY1OC4yOS4xMDA=\n",
       "\">\n",
       "  Your browser does not support the video tag.\n",
       "</video>"
      ],
      "text/plain": [
       "<IPython.core.display.HTML object>"
      ]
     },
     "execution_count": 43,
     "metadata": {},
     "output_type": "execute_result"
    }
   ],
   "source": [
    "animation1 = animation.FuncAnimation(fig, animate, interval=500, frames=totalnum)\n",
    "HTML(animation1.to_html5_video())"
   ]
  },
  {
   "cell_type": "code",
   "execution_count": 44,
   "metadata": {},
   "outputs": [
    {
     "name": "stdout",
     "output_type": "stream",
     "text": [
      "[72]\n"
     ]
    }
   ],
   "source": [
    "listforplot=[]\n",
    "listforplot.append(totalnum)\n",
    "print(listforplot)"
   ]
  },
  {
   "cell_type": "markdown",
   "metadata": {},
   "source": [
    "!!!!need to store previous number of configurations to get a list and then plot"
   ]
  },
  {
   "cell_type": "code",
   "execution_count": 45,
   "metadata": {},
   "outputs": [
    {
     "data": {
      "text/plain": [
       "(0, 7000000)"
      ]
     },
     "execution_count": 45,
     "metadata": {},
     "output_type": "execute_result"
    },
    {
     "data": {
      "image/png": "[encoded data removed]",
      "text/plain": [
       "<Figure size 432x288 with 1 Axes>"
      ]
     },
     "metadata": {
      "needs_background": "light"
     },
     "output_type": "display_data"
    }
   ],
   "source": [
    "# 2 by 2 lattice\n",
    "num = [4, 12, 24, 24]\n",
    "\n",
    "# 3 by 3 lattice\n",
    "num9 = [9, 72, 504, 3024, 15120, 60480]\n",
    "numpart = [1, 2, 3, 4, 5, 6]\n",
    "plt.plot(numpart, num9)\n",
    "plt.ylim(0,7000000)\n",
    "(0, 7000000)"
   ]
  },
  {
   "cell_type": "code",
   "execution_count": 46,
   "metadata": {},
   "outputs": [
    {
     "data": {
      "text/plain": [
       "(0, 7000000)"
      ]
     },
     "execution_count": 46,
     "metadata": {},
     "output_type": "execute_result"
    },
    {
     "data": {
      "image/png": "[encoded data removed]",
      "text/plain": [
       "<Figure size 432x288 with 1 Axes>"
      ]
     },
     "metadata": {
      "needs_background": "light"
     },
     "output_type": "display_data"
    }
   ],
   "source": [
    "# 4 by 4 lattice\n",
    "num16 = [16, 240, 3360, 43680, 524160, 5765760]\n",
    "plt.plot(numpart, num16)\n",
    "plt.ylim(0,7000000)\n",
    "(0, 7000000)"
   ]
  },
  {
   "cell_type": "code",
   "execution_count": 47,
   "metadata": {},
   "outputs": [
    {
     "data": {
      "text/plain": [
       "(0, 7000000)"
      ]
     },
     "execution_count": 47,
     "metadata": {},
     "output_type": "execute_result"
    },
    {
     "data": {
      "image/png": "[encoded data removed]",
      "text/plain": [
       "<Figure size 432x288 with 1 Axes>"
      ]
     },
     "metadata": {
      "needs_background": "light"
     },
     "output_type": "display_data"
    }
   ],
   "source": [
    "# 5 by 5 lattice\n",
    "num25 = [25, 600, 13800, 303600, 6375600]\n",
    "n = [1, 2, 3, 4, 5]\n",
    "plt.plot(n, num25)\n",
    "plt.xlim(1,6)\n",
    "plt.ylim(0,7000000)\n",
    "(0, 7000000)"
   ]
  },
  {
   "cell_type": "code",
   "execution_count": null,
   "metadata": {},
   "outputs": [],
   "source": []
  }
 ],
 "metadata": {
  "kernelspec": {
   "display_name": "Python 3",
   "language": "python",
   "name": "python3"
  },
  "language_info": {
   "codemirror_mode": {
    "name": "ipython",
    "version": 3
   },
   "file_extension": ".py",
   "mimetype": "text/x-python",
   "name": "python",
   "nbconvert_exporter": "python",
   "pygments_lexer": "ipython3",
   "version": "3.7.6"
  }
 },
 "nbformat": 4,
 "nbformat_minor": 4
}
