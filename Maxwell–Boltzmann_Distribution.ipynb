{
 "cells": [
  {
   "attachments": {},
   "cell_type": "markdown",
   "metadata": {},
   "source": [
    "# Maxwell–Boltzmann Distribution\n",
    "## PHAS0024 $\\;\\;\\;\\;\\;\\;\\;\\;\\;$ UCL $\\;\\;\\;\\;\\;\\;\\;\\;\\;$ 2020\n",
    "### Authors: Dr. Bart Hoogenboom, Lorenzo Braccini\n",
    "\n",
    "<font color=red>Note: the red texts are meant as side notes during the implementation.\n",
    "\n",
    "I also included some Markdown cells as explanations of the physics behind the simulations. This also helped me to keep track of the work.\n",
    "</font> "
   ]
  },
  {
   "cell_type": "markdown",
   "metadata": {},
   "source": [
    "## Introduction:\n",
    "\n",
    "Let us consider a gas (mad of N particles) at a certain temperature T. Assuming that the energy of the particles in the gas is predominantly kinetic. Can we predict the velocity of these particles?\n",
    "\n",
    "This is an example of **Canonical Distribution**:\n",
    "\n",
    "$$P(E) = \\frac{1}{Z} \\cdot \\Omega(E) \\cdot e^{- \\beta E}$$where:\n",
    "- $P(E)$ is the probabilty of the system to be in the state with energy E \n",
    "- $Z$ is the partition function $\\left( Z = \\sum_E \\Omega(E) \\cdot e^{- \\beta E} \\right)$\n",
    "- $\\Omega(E)$ is the multiplicity, *i.e.* the number of states with energy $E$\n",
    "- $e^{- \\beta E}$ is the Boltzmann factor $\\left( \\beta = \\frac{1}{k_B T} \\right)$\n",
    "\n",
    "## Content of the notebook:\n",
    "1. [Section 1](#1) **States Multiplicity**: investigate the number of states with the same velocity, *i.e.* the multiplicity $\\Omega(v)$; \n",
    "2. [Section 2](#2) **Maxwell–Boltzmann Distribution**: how does the Maxwell–Boltzmann Distribution vary with temperature and particles-mass?;\n",
    "3. [Section 3](#3) **Time Evolution of an Ideal Gas**: study of the velocity distribution of an ideal gas as function of time. How the Maxwell–Boltzmann Distribution emerges from a deterministic treatment, *i.e.* classical collision between particle?\n",
    "\n"
   ]
  },
  {
   "cell_type": "code",
   "execution_count": 1,
   "metadata": {},
   "outputs": [],
   "source": [
    "# Imports \n",
    "\n",
    "import sys\n",
    "import numpy as np\n",
    "import math\n",
    "import matplotlib as mpl\n",
    "import matplotlib.pyplot as plt\n",
    "from ipywidgets import interact, interactive, fixed, interact_manual\n",
    "import ipywidgets as widgets\n",
    "from mpl_toolkits.mplot3d import Axes3D\n",
    "from matplotlib.animation import FuncAnimation\n",
    "from IPython import display"
   ]
  },
  {
   "cell_type": "code",
   "execution_count": 2,
   "metadata": {},
   "outputs": [],
   "source": [
    "matplotlib inline"
   ]
  },
  {
   "cell_type": "code",
   "execution_count": 3,
   "metadata": {},
   "outputs": [],
   "source": [
    "# set up figures dimensions\n",
    "plt.rcParams['figure.figsize'] = (6,4)\n",
    "plt.rcParams['figure.dpi'] = 150"
   ]
  },
  {
   "cell_type": "markdown",
   "metadata": {},
   "source": [
    "## 1) <a id='1'> </a> States Multiplicity\n",
    "\n",
    "In order to understand the behaviour of $P(v)$, we need to take into account the multiplitcity $\\Omega \\left(\\frac{1}{2} m v^2 \\right) = \\Omega(v)$, *i.e.* the number of ways a particle can move with velocity $v$. \n",
    "\n",
    "To determine $\\Omega(v)$, we may presume the velocity states to be discrete and ask us: \"how many of these states have velocity between $v$ and $v + \\Delta v$?\". \n",
    "\n",
    "The discrate states form a 3-D lattice of points $\\left(v_x, v_y, v_z \\right)$, with $v = \\left| \\vec{v}\\right| = \\sqrt{v_x^2 + v_y^2 + v_z^2}$. The states with velocity between $v$ and $v + \\Delta v$ are these states in the spherical shell with inner radius $v$ and thickness $v + \\Delta v$."
   ]
  },
  {
   "cell_type": "code",
   "execution_count": 4,
   "metadata": {},
   "outputs": [
    {
     "data": {
      "application/vnd.jupyter.widget-view+json": {
       "model_id": "1a2850ccd68d43d887d045b4fc66a1b0",
       "version_major": 2,
       "version_minor": 0
      },
      "text/plain": [
       "interactive(children=(FloatSlider(value=2.5, description='v', max=5.0, step=0.5), Output()), _dom_classes=('wi…"
      ]
     },
     "metadata": {},
     "output_type": "display_data"
    }
   ],
   "source": [
    "vmax = 10                 # Max velocity\n",
    "Ncells = 5                # Number of lattice cells (odd number)\n",
    "dv = vmax/((Ncells-1)/2)  # Delta velocity\n",
    "Npoints1 = (Ncells)**3     # Number of lattice points\n",
    "delta = 0.5               # Change in the interaction \n",
    "rbox = np.zeros((Npoints1,3))\n",
    "\n",
    "# generate lattice points\n",
    "count = 0\n",
    "for i in range(- int((Ncells-1)/2), int((Ncells-1)/2)+1): # iterate over v_x, v_y, v_z\n",
    "    for j in range(- int((Ncells-1)/2), int((Ncells-1)/2)+1):\n",
    "        for k in range(- int((Ncells-1)/2), int((Ncells-1)/2)+1):\n",
    "            rbox[count] = np.array([i,j,k])*dv # save the position of the lattice point\n",
    "            count += 1 # move to the next point\n",
    "\n",
    "@interact(v=(0,vmax - dv ,delta)) # interacting velocity \n",
    "def multiplicity(v):\n",
    "    fig1 = plt.figure(figsize = (10,5)) # initialise the figure and set the dimension of the plot\n",
    "    ax1 = fig1.add_subplot(121, projection = '3d') # add a 3D subplot\n",
    "\n",
    "    # add labels and title\n",
    "    ax1.set_xlabel('$v_x$') \n",
    "    ax1.set_ylabel('$v_y$')\n",
    "    ax1.set_zlabel('$v_z$')\n",
    "    \n",
    "    # add axes\n",
    "    ax1.plot([rbox[:,0].min() - 2, rbox[:,0].max() + 2], [0,0], [0,0], color = 'black')\n",
    "    ax1.plot([0, 0], [rbox[:,0].min() - 2, rbox[:,0].max() + 2], [0, 0], color = 'black')\n",
    "    ax1.plot([0, 0], [0,0], [rbox[:,0].min() - 2, rbox[:,0].max() + 2], color = 'black')\n",
    "    \n",
    "    # set limit of the axes\n",
    "    ax1.set_xlim(-12, 12)\n",
    "    ax1.set_ylim(-12, 12)\n",
    "    ax1.set_zlim(-12, 12)\n",
    "    \n",
    "    # generate angles for sphere\n",
    "    phi = np.linspace(0, 2*np.pi, 20)\n",
    "    theta = np.linspace(0, np.pi, 20)\n",
    "    \n",
    "    # find points of the unit sphere\n",
    "    x = np.outer(np.cos(phi), np.sin(theta))\n",
    "    y = np.outer(np.sin(phi), np.sin(theta))\n",
    "    z = np.outer(np.ones(np.size(phi)), np.cos(theta))\n",
    "    \n",
    "    # plot the spheres\n",
    "    ax1.plot_surface(v*x, v*y, v*z, color='r', alpha = 0.1)                # inner sphere\n",
    "    ax1.plot_surface((v+dv)*x, (v+dv)*y, (v+dv)*z, color='r', alpha = 0.1) # outer sphere\n",
    "    \n",
    "    #vel = np.sqrt(rbox[:,0]**2 + rbox[:,1]**2 + rbox[:,2]**2) # calulate v for the points\n",
    "    vel1 = np.zeros(Npoints1)\n",
    "    for i in range(Npoints1):\n",
    "        vel1[i] = np.linalg.norm(rbox[i])\n",
    "  \n",
    "    # plot the lattice points\n",
    "    for i in range(Npoints1):\n",
    "        if v - 0.05 < vel1[i] and vel1[i] < v + dv - 0.05: # if they are inside the shell (-0.05 to include zero)\n",
    "            ax1.scatter(rbox[i,0],rbox[i,1],rbox[i,2], s = 20, color ='r') # plot points \n",
    "        else:\n",
    "            ax1.scatter(rbox[i,0],rbox[i,1],rbox[i,2], s = 10, color ='b') # plot points in different color\n",
    "    # second subplot\n",
    "    ax2 = fig1.add_subplot(122)\n",
    "    \n",
    "    # calulate the points of the plot\n",
    "    X = np.arange(0,vmax - dv + delta , delta)\n",
    "    Y = np.zeros(len(X))\n",
    "    for i in range(len(X)):\n",
    "        Y[i] = np.sum(np.where((vel1 > X[i] - 0.05) & (vel1 < X[i]+dv - 0.05) , 1, 0))\n",
    "    \n",
    "    # plot the points\n",
    "    for i in range(len(X)):\n",
    "        if X[i] == v:\n",
    "            plt.scatter(X[i],Y[i], color = 'r')\n",
    "        else:\n",
    "            plt.scatter(X[i],Y[i], color = 'b')\n",
    "    \n",
    "    # set labels\n",
    "    plt.xlabel('v')\n",
    "    plt.ylabel('Number of states')\n",
    "    plt.title('Plot of the multiplicity as function of the velocity')\n",
    "    plt.grid();\n",
    "    "
   ]
  },
  {
   "cell_type": "markdown",
   "metadata": {},
   "source": [
    "The number of states scales with the volume of the shell: $v = 4 \\pi v^2 \\Delta v $\n",
    "\n",
    "Let us rewrite P(v) as a distribution:\n",
    "\n",
    "$$\n",
    "P(v) = \\frac{1}{Z} \\cdot \\Omega(v) \\cdot e^{- \\beta \\frac{1}{2} m v^2 } \\;\\; \\to \\;\\; P(v) \\Delta v = \\frac{1}{Z} \\cdot \\rho(v) \\cdot e^{- \\beta \\frac{1}{2} m v^2 } \\Delta v \n",
    "$$\n",
    "where $P(v) \\Delta v $ is the probability that particle has velocity between $v$ and $v + \\Delta v$. \n",
    "\n",
    "$\\rho(v) \\Delta v $ is the number of states with velocity between $v$ and $v + \\Delta v$, *i.e.* $\\rho(v) \\propto 4 \\pi v^2$.\n",
    "\n",
    "Considering arbitrary small velocity interval $dv$, we may rewrite this as:\n",
    "$$\n",
    "P(v) d v = \\frac{4 \\pi}{Z} v^2 e^{- \\beta \\frac{1}{2} m v^2 } d v\n",
    "$$\n",
    "where $Z = 4 \\pi \\int_0^{\\infty} v^2 e^{- \\beta \\frac{1}{2} m v^2 } d v $ ensure that the probability distribution is normalized. This is know as **Maxwell–Boltzmann Distribution**."
   ]
  },
  {
   "cell_type": "markdown",
   "metadata": {},
   "source": [
    "## 2) <a id='2'> </a> Maxwell–Boltzmann Distribution\n",
    "\n",
    "Making the substitution $x^2 = \\beta \\frac{1}{2} m v^2$:\n",
    "$$\n",
    "Z = 4 \\pi \\int_0^{\\infty} v^2 e^{- \\beta \\frac{1}{2} m v^2 } d v = 4 \\pi \\left( \\frac{2 k_B T}{m} \\right)^{\\frac{3}{2}} \\int_0^{\\infty} x^2 e^{- x^2 } d x \n",
    "$$\n",
    "and knowing that $\\int_{- \\infty}^{\\infty} x^2 e^{- x^2 } d x = \\frac{\\sqrt{\\pi}}{4}$, it is possible to write $Z =  \\left( \\frac{2 \\pi k_B T}{m} \\right)^{\\frac{3}{2}} $. This give the Maxwell–Boltzmann Distribution:\n",
    "\n",
    "$$\n",
    "P(v) d v = 4 \\pi \\left( \\frac{m}{2 \\pi k_B T}\\right)^{\\frac{3}{2}} v^2 e^{-\\frac{ m v^2 }{2 k_B T}} d v\n",
    "$$"
   ]
  },
  {
   "cell_type": "code",
   "execution_count": 5,
   "metadata": {},
   "outputs": [],
   "source": [
    "def Maxwell_Boltzmann(T,m,v):\n",
    "    \"\"\"\n",
    "    Calculate the Maxwell–Boltzmann Distribution.\n",
    "    Inputs:\n",
    "    T      Temperature\n",
    "    m      Mass of the particle\n",
    "    v      Velocities (array-like)\n",
    "    Output: Probability distribution\n",
    "    \"\"\"\n",
    "    return 4*np.pi*(m/(2*np.pi*k*T))**(3/2)*v**2*np.e**(-(m*v**2)/(2*k*T))"
   ]
  },
  {
   "cell_type": "code",
   "execution_count": 6,
   "metadata": {
    "scrolled": false
   },
   "outputs": [
    {
     "data": {
      "application/vnd.jupyter.widget-view+json": {
       "model_id": "06035e1a152a4c1996461de3e5364468",
       "version_major": 2,
       "version_minor": 0
      },
      "text/plain": [
       "interactive(children=(IntSlider(value=220, description='T', max=400, min=60, step=20), IntSlider(value=25, des…"
      ]
     },
     "metadata": {},
     "output_type": "display_data"
    }
   ],
   "source": [
    "m_u = 1.66e-27 # Dalton (Kg)\n",
    "k = 1.38064852e-23 # m2 kg s-2 K-1 (Boltzmann constant)\n",
    "\n",
    "v_min = 0\n",
    "v_max = 1500\n",
    "Npoints2 = 200\n",
    "vel2 = np.linspace(v_min, v_max, Npoints2)\n",
    "\n",
    "@interact(T=(60,400,20), m=(5,50,5)) # interacting velocity \n",
    "def plot_distribution(T,m):\n",
    "    fig1 = plt.figure(figsize = (10,5)) # initialise the figure and set the dimension of the plot\n",
    "    \n",
    "    plt.plot(vel2, Maxwell_Boltzmann(T,m*m_u,vel2), label='Distribution') # plot the distribution\n",
    "    \n",
    "    # calulate and plot the mean and most-probable velocities \n",
    "    vmean = np.sqrt(3*k*T/(m*m_u))\n",
    "    vprob = np.sqrt(2*k*T/(m*m_u))\n",
    "    plt.axvline(x=vmean, ymin = 0, ymax =  Maxwell_Boltzmann(T,m*m_u,vmean)*200,\n",
    "                color='g', label='mean velocity')\n",
    "    plt.axvline(x=vprob, ymin = 0, ymax =  Maxwell_Boltzmann(T,m*m_u,vprob)*200,\n",
    "                color='r', label='most-probable velocity')\n",
    "    \n",
    "    # add features to the plot\n",
    "    plt.xlim(v_min,v_max)\n",
    "    plt.ylim(0, 0.005)\n",
    "    plt.xlabel('Velocity (m/s)')\n",
    "    plt.ylabel('Probability Density (s/m)')\n",
    "    plt.title('Maxwell–Boltzmann Distribution')\n",
    "    plt.grid()\n",
    "    plt.legend();\n",
    "    "
   ]
  },
  {
   "cell_type": "markdown",
   "metadata": {},
   "source": [
    "<font color=red>Note: I am not sure about the normalization of the distribution. The y-axis seems to have too low values. However, I found graphs with this order of magintude as well. \n",
    "</font> "
   ]
  },
  {
   "cell_type": "markdown",
   "metadata": {},
   "source": [
    "## 3) <a id='3'> </a> Time Evoution of an Ideal Gas \n",
    "The Maxwell–Boltzmann Distribution appears as an emerging behavior of *\"mean\"* probability distribution. The velocity distribution tends to a Maxwell–Boltzmann Distribution a) as the number of particles and b) as the running-time increses. Let us see this with two different simulations."
   ]
  },
  {
   "cell_type": "markdown",
   "metadata": {},
   "source": [
    "### a) Velocity Distribution as function of number of particles\n",
    "\n",
    "In the following subsection, the instantaneous velocity probability is plotted at a time t, *i.e.* the probability of finding a particle with a velocity between $v$ and $v + \\Delta v$ at the time t. \n",
    "\n",
    "Thus, let us create a gas of N ideal particle with the same kinetic energy and with random velocity direction, and investigate how the system evolves. The particles collision with the walls and between themselves are modeled as perfectly elastic collisions. The collisions between particles change their velocities as time passes. As the number of particles increases, an emerging behavior appears: the Maxwell–Boltzmann Distribution. With a higher number of particles the random fluctuations become less relevant and the distribution approaches the Maxwell–Boltzmann Distribution.\n",
    "\n",
    "The initial velocity of the particle is given by:\n",
    "\n",
    "$$\n",
    "\\frac{1}{2}m \\overline{v}^2 = \\frac{3}{2} k_B T  \n",
    "$$\n",
    "\n",
    "<font color=red>Note: Working in progress.\n",
    "</font> "
   ]
  },
  {
   "cell_type": "code",
   "execution_count": 7,
   "metadata": {},
   "outputs": [],
   "source": [
    "def generate(N, R, Nsteps, T, boxlen):\n",
    "    \"\"\"\n",
    "    Generate N particles at T in a random position and with a random velocity direction.\n",
    "    Inputs:\n",
    "    N        Number of particles\n",
    "    R        Radius of the particles\n",
    "    Nsteps   Number of steps of the simulation\n",
    "    T        Temperature \n",
    "    boxlen   Lenght of the box\n",
    "    Outputs: position and velocity of the partcles\n",
    "    \"\"\"\n",
    "    v0 = np.sqrt(T)/2 # velocity proportional to the root of the temperature \n",
    "    # generate array for storing position and velocities over the simulation\n",
    "    r = np.zeros((Nsteps, N, 2)) \n",
    "    v = np.zeros((Nsteps, N, 2))\n",
    "\n",
    "    r[0,0] = (boxlen - 2*R) *np.random.rand(2) + R # random initial positions of the first particle\n",
    "    \n",
    "    for i in range(1,N): # for every other particle\n",
    "        over = True\n",
    "        while over == True:\n",
    "            r0 = (boxlen - 2*R) *np.random.rand(2) + R\n",
    "            dr = r[0] - r0\n",
    "            dis = np.sqrt(dr[:,0]**2 + dr[:,1]**2) \n",
    "            if np.min(dis) > 2*R: # check if the particl overlap with the others\n",
    "                 over = False\n",
    "        r[0,i] =  r0 # random initial positions\n",
    "    \n",
    "    # reandom velocity directions\n",
    "    thetas = 2*np.pi*np.random.rand(N) \n",
    "    v[0,:,0] = np.cos(thetas)*v0\n",
    "    v[0,:,1] = np.sin(thetas)*v0\n",
    "    \n",
    "    return r, v"
   ]
  },
  {
   "cell_type": "code",
   "execution_count": 8,
   "metadata": {},
   "outputs": [],
   "source": [
    "def hardwall(r,v,boxlen):\n",
    "    \"\"\"Implements hard-wall boundary conditions for a particle\n",
    "    Inputs:\n",
    "    r       Positions of the particles\n",
    "    v       Velocities of the particles\n",
    "    boxlen  Lenght of the box\n",
    "    Outputs: position and veloicity of the paritcles after the collision\n",
    "    \"\"\"\n",
    "    rout = r\n",
    "    vout = v\n",
    "    for j in range(len(r)): # for each particle \n",
    "        if r[j,0] <= R:\n",
    "            if v[j,0] < 0: \n",
    "                vout[j,0] = - v[j,0]\n",
    "        if r[j,0] >= boxlen - R:\n",
    "            if v[j,0] > 0: \n",
    "                vout[j,0] = - v[j,0]\n",
    "\n",
    "        if r[j,1] <= R:\n",
    "            if v[j,1] < 0: \n",
    "                vout[j,1] = - v[j,1]\n",
    "        if r[j,1] >= boxlen - R:\n",
    "            if v[j,1] > 0: \n",
    "                vout[j,1] = - v[j,1]\n",
    "            \n",
    "    return rout, vout"
   ]
  },
  {
   "cell_type": "code",
   "execution_count": 9,
   "metadata": {},
   "outputs": [],
   "source": [
    "def overlap(r, v, N, R, dt):\n",
    "    \"\"\"\n",
    "    Check if one particle overlap and update the velocities\n",
    "    \"\"\"\n",
    "    for i in range(N):\n",
    "        for j in range(i+1, N): #check for overlap \n",
    "            dr1 =  r[i] - r[j]\n",
    "            dis1 = np.sqrt(dr1[0]**2 + dr1[1]**2) \n",
    "            if dis1 < 2*R:\n",
    "                dr2 = - r[j] - v[j]*dt + r[i] + v[i]*dt\n",
    "                dis2 = np.sqrt(dr2[0]**2 + dr2[1]**2) \n",
    "                if dis1 > dis2:\n",
    "                    norm = dr1/dis1\n",
    "                    v1 = v[i] - np.inner(v[i] - v[j], norm)*norm\n",
    "                    v2 = v[j] - np.inner(v[j] - v[i], norm)*norm\n",
    "\n",
    "                    v[i] = v1\n",
    "                    v[j] = v2\n",
    "                    #v[j] = collision(dr1, v[i], v[j]) # if they collide, change the velocity\n",
    "                #r[i] = r[j] - 2.2*R*dr/dis\n",
    "    return v "
   ]
  },
  {
   "cell_type": "code",
   "execution_count": 10,
   "metadata": {},
   "outputs": [],
   "source": [
    "def velocity_density(v, Nsteps, N, Ndiag):\n",
    "    \"\"\"\n",
    "    Calculate the velocity probabiliyt density for the disposition\n",
    "    \"\"\"\n",
    "    vel = np.zeros((Nsteps,N))\n",
    "    for i in range(Nsteps):\n",
    "        for j in range(N):\n",
    "            vel[i,j] = np.sqrt(v[i,j,0]**2 + v[i,j,1]**2)\n",
    "\n",
    "    vel_den = np.zeros((Nsteps,Ndiag))\n",
    "    vel_max =  np.max(vel)\n",
    "    vel_step = vel_max/Ndiag\n",
    "    \n",
    "    for i in range(Nsteps):\n",
    "        for j in range(N):\n",
    "            for k in range(Ndiag):\n",
    "                if (vel_step * k) <= vel[i,j]:\n",
    "                    if vel[i,j] <= (vel_step * (k + 1)):\n",
    "                        vel_den[i,k] = vel_den[i,k] + 1 \n",
    "    \n",
    "    vel_den = vel_den/N\n",
    "    return vel_den, vel_max"
   ]
  },
  {
   "cell_type": "code",
   "execution_count": 11,
   "metadata": {},
   "outputs": [],
   "source": [
    "N = 15\n",
    "boxlen = 1\n",
    "R = boxlen/30\n",
    "T = 300\n",
    "Nsteps = 500\n",
    "Ndiag = 8\n",
    "dt = 0.001\n",
    "#\n",
    "\n",
    "r, v = generate(N,R, Nsteps, T, boxlen)\n",
    "## Velocity Verlet algorithm\n",
    "for i in range(1,Nsteps):\n",
    "    v[i-1] = overlap(r[i-1], v[i-1], N, R, dt) # check collisions\n",
    "    r[i] = r[i-1] + dt*v[i-1] # update position\n",
    "    r[i], v[i] = hardwall(r[i],v[i-1],boxlen) # boundary conditions\n",
    "    v[i] = v[i-1] #update velocitie\n",
    "\n",
    "vel_den, vel_max = velocity_density(v, Nsteps, N, Ndiag)\n"
   ]
  },
  {
   "cell_type": "code",
   "execution_count": null,
   "metadata": {},
   "outputs": [],
   "source": []
  },
  {
   "cell_type": "code",
   "execution_count": null,
   "metadata": {},
   "outputs": [],
   "source": []
  }
 ],
 "metadata": {
  "kernelspec": {
   "display_name": "Python 3",
   "language": "python",
   "name": "python3"
  },
  "language_info": {
   "codemirror_mode": {
    "name": "ipython",
    "version": 3
   },
   "file_extension": ".py",
   "mimetype": "text/x-python",
   "name": "python",
   "nbconvert_exporter": "python",
   "pygments_lexer": "ipython3",
   "version": "3.7.4"
  }
 },
 "nbformat": 4,
 "nbformat_minor": 2
}
